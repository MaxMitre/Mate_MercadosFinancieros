{
  "cells": [
    {
      "cell_type": "markdown",
      "source": [
        "[![Open In Colab](https://colab.research.google.com/assets/colab-badge.svg)](https://colab.research.google.com/github/MaxMitre/Mate_MercadosFinancieros/blob/main/Semana6_Black_Litterman.ipynb)"
      ],
      "metadata": {
        "id": "XG5WoR7XFT3a"
      }
    },
    {
      "cell_type": "markdown",
      "metadata": {
        "id": "WzHr8McwAbNd"
      },
      "source": [
        "# Asignación de capital de Black-Litterman\n",
        "\n",
        "## Recordemos un poco:\n",
        "\n",
        "- ¿Recuerdan que haciamos en portafolios de Markowitz?\n",
        "\n",
        "- ¿Que ventajas tenía dicho método?\n",
        "\n",
        "- ¿Que desventajas tenía?\n",
        "\n",
        "\n"
      ]
    },
    {
      "cell_type": "markdown",
      "source": [
        "La clase de hoy se constituye por:\n",
        "\n",
        "- Descargar datos para el método de Black-Litterman\n",
        "- Construir un vector de retornos a priori\n",
        "- Construir una matriz de incetidumbre\n",
        "- Combinar Black-Litterman con optimizacion de tipo Markowitz\n",
        "\n"
      ],
      "metadata": {
        "id": "3bOjZJ_0FSd0"
      }
    },
    {
      "cell_type": "markdown",
      "source": [
        "# Instalaciones necesarias"
      ],
      "metadata": {
        "id": "PJEkNDwZFp_G"
      }
    },
    {
      "cell_type": "code",
      "source": [
        "!pip install pandas numpy matplotlib yfinance PyPortfolioOpt\n",
        "import os\n",
        "if not os.path.isdir('data'):\n",
        "    os.system('git clone https://github.com/robertmartin8/PyPortfolioOpt.git')\n",
        "    os.chdir('PyPortfolioOpt/cookbook')"
      ],
      "metadata": {
        "id": "sXdbiHc0AnfS",
        "colab": {
          "base_uri": "https://localhost:8080/"
        },
        "outputId": "4c1e3f1b-3bcd-4a1d-e25a-b9743a54c897"
      },
      "execution_count": null,
      "outputs": [
        {
          "output_type": "stream",
          "name": "stdout",
          "text": [
            "Requirement already satisfied: pandas in /usr/local/lib/python3.10/dist-packages (2.1.4)\n",
            "Requirement already satisfied: numpy in /usr/local/lib/python3.10/dist-packages (1.26.4)\n",
            "Requirement already satisfied: matplotlib in /usr/local/lib/python3.10/dist-packages (3.7.1)\n",
            "Requirement already satisfied: yfinance in /usr/local/lib/python3.10/dist-packages (0.2.41)\n",
            "Collecting PyPortfolioOpt\n",
            "  Downloading pyportfolioopt-1.5.5-py3-none-any.whl.metadata (23 kB)\n",
            "Requirement already satisfied: python-dateutil>=2.8.2 in /usr/local/lib/python3.10/dist-packages (from pandas) (2.8.2)\n",
            "Requirement already satisfied: pytz>=2020.1 in /usr/local/lib/python3.10/dist-packages (from pandas) (2024.1)\n",
            "Requirement already satisfied: tzdata>=2022.1 in /usr/local/lib/python3.10/dist-packages (from pandas) (2024.1)\n",
            "Requirement already satisfied: contourpy>=1.0.1 in /usr/local/lib/python3.10/dist-packages (from matplotlib) (1.2.1)\n",
            "Requirement already satisfied: cycler>=0.10 in /usr/local/lib/python3.10/dist-packages (from matplotlib) (0.12.1)\n",
            "Requirement already satisfied: fonttools>=4.22.0 in /usr/local/lib/python3.10/dist-packages (from matplotlib) (4.53.1)\n",
            "Requirement already satisfied: kiwisolver>=1.0.1 in /usr/local/lib/python3.10/dist-packages (from matplotlib) (1.4.5)\n",
            "Requirement already satisfied: packaging>=20.0 in /usr/local/lib/python3.10/dist-packages (from matplotlib) (24.1)\n",
            "Requirement already satisfied: pillow>=6.2.0 in /usr/local/lib/python3.10/dist-packages (from matplotlib) (9.4.0)\n",
            "Requirement already satisfied: pyparsing>=2.3.1 in /usr/local/lib/python3.10/dist-packages (from matplotlib) (3.1.2)\n",
            "Requirement already satisfied: requests>=2.31 in /usr/local/lib/python3.10/dist-packages (from yfinance) (2.32.3)\n",
            "Requirement already satisfied: multitasking>=0.0.7 in /usr/local/lib/python3.10/dist-packages (from yfinance) (0.0.11)\n",
            "Requirement already satisfied: lxml>=4.9.1 in /usr/local/lib/python3.10/dist-packages (from yfinance) (4.9.4)\n",
            "Requirement already satisfied: platformdirs>=2.0.0 in /usr/local/lib/python3.10/dist-packages (from yfinance) (4.2.2)\n",
            "Requirement already satisfied: frozendict>=2.3.4 in /usr/local/lib/python3.10/dist-packages (from yfinance) (2.4.4)\n",
            "Requirement already satisfied: peewee>=3.16.2 in /usr/local/lib/python3.10/dist-packages (from yfinance) (3.17.6)\n",
            "Requirement already satisfied: beautifulsoup4>=4.11.1 in /usr/local/lib/python3.10/dist-packages (from yfinance) (4.12.3)\n",
            "Requirement already satisfied: html5lib>=1.1 in /usr/local/lib/python3.10/dist-packages (from yfinance) (1.1)\n",
            "Requirement already satisfied: cvxpy<2.0.0,>=1.1.19 in /usr/local/lib/python3.10/dist-packages (from PyPortfolioOpt) (1.5.3)\n",
            "Requirement already satisfied: scipy<2.0,>=1.3 in /usr/local/lib/python3.10/dist-packages (from PyPortfolioOpt) (1.13.1)\n",
            "Requirement already satisfied: soupsieve>1.2 in /usr/local/lib/python3.10/dist-packages (from beautifulsoup4>=4.11.1->yfinance) (2.6)\n",
            "Requirement already satisfied: osqp>=0.6.2 in /usr/local/lib/python3.10/dist-packages (from cvxpy<2.0.0,>=1.1.19->PyPortfolioOpt) (0.6.7.post0)\n",
            "Requirement already satisfied: ecos>=2 in /usr/local/lib/python3.10/dist-packages (from cvxpy<2.0.0,>=1.1.19->PyPortfolioOpt) (2.0.14)\n",
            "Requirement already satisfied: clarabel>=0.5.0 in /usr/local/lib/python3.10/dist-packages (from cvxpy<2.0.0,>=1.1.19->PyPortfolioOpt) (0.9.0)\n",
            "Requirement already satisfied: scs>=3.2.4.post1 in /usr/local/lib/python3.10/dist-packages (from cvxpy<2.0.0,>=1.1.19->PyPortfolioOpt) (3.2.6)\n",
            "Requirement already satisfied: six>=1.9 in /usr/local/lib/python3.10/dist-packages (from html5lib>=1.1->yfinance) (1.16.0)\n",
            "Requirement already satisfied: webencodings in /usr/local/lib/python3.10/dist-packages (from html5lib>=1.1->yfinance) (0.5.1)\n",
            "Requirement already satisfied: charset-normalizer<4,>=2 in /usr/local/lib/python3.10/dist-packages (from requests>=2.31->yfinance) (3.3.2)\n",
            "Requirement already satisfied: idna<4,>=2.5 in /usr/local/lib/python3.10/dist-packages (from requests>=2.31->yfinance) (3.7)\n",
            "Requirement already satisfied: urllib3<3,>=1.21.1 in /usr/local/lib/python3.10/dist-packages (from requests>=2.31->yfinance) (2.0.7)\n",
            "Requirement already satisfied: certifi>=2017.4.17 in /usr/local/lib/python3.10/dist-packages (from requests>=2.31->yfinance) (2024.7.4)\n",
            "Requirement already satisfied: qdldl in /usr/local/lib/python3.10/dist-packages (from osqp>=0.6.2->cvxpy<2.0.0,>=1.1.19->PyPortfolioOpt) (0.1.7.post4)\n",
            "Downloading pyportfolioopt-1.5.5-py3-none-any.whl (61 kB)\n",
            "\u001b[2K   \u001b[90m━━━━━━━━━━━━━━━━━━━━━━━━━━━━━━━━━━━━━━━━\u001b[0m \u001b[32m61.9/61.9 kB\u001b[0m \u001b[31m1.6 MB/s\u001b[0m eta \u001b[36m0:00:00\u001b[0m\n",
            "\u001b[?25hInstalling collected packages: PyPortfolioOpt\n",
            "Successfully installed PyPortfolioOpt-1.5.5\n"
          ]
        }
      ]
    },
    {
      "cell_type": "code",
      "execution_count": null,
      "metadata": {
        "id": "bs5cBlLfAbNf"
      },
      "outputs": [],
      "source": [
        "import numpy as np\n",
        "import pandas as pd\n",
        "import matplotlib.pyplot as plt\n",
        "import yfinance as yf"
      ]
    },
    {
      "cell_type": "markdown",
      "source": [
        "# Descarga de datos\n",
        "\n",
        "Tomaremos los precios de activos, pero también su capitalización de mercado(market-cap)\n"
      ],
      "metadata": {
        "id": "wZXLXxHZFujV"
      }
    },
    {
      "cell_type": "code",
      "execution_count": null,
      "metadata": {
        "id": "_2kfAeqOAbNg"
      },
      "outputs": [],
      "source": [
        "tickers = [\"MSFT\", \"AMZN\", \"NAT\", \"BAC\", \"DPZ\", \"DIS\", \"KO\", \"MCD\", \"COST\", \"SBUX\"]"
      ]
    },
    {
      "cell_type": "code",
      "execution_count": null,
      "metadata": {
        "id": "ghoX_hFkAbNg",
        "colab": {
          "base_uri": "https://localhost:8080/",
          "height": 472
        },
        "outputId": "f5d9730b-4ee2-4c97-dc47-101088a38bad"
      },
      "outputs": [
        {
          "output_type": "stream",
          "name": "stderr",
          "text": [
            "[*********************100%%**********************]  10 of 10 completed\n"
          ]
        },
        {
          "output_type": "execute_result",
          "data": {
            "text/plain": [
              "Ticker            AMZN        BAC        COST        DIS         DPZ  \\\n",
              "Date                                                                   \n",
              "2023-08-24  131.839996  27.792717  516.607605  81.824600  374.240601   \n",
              "2023-08-25  133.259995  27.676186  518.842346  82.707634  376.077942   \n",
              "2023-08-28  133.139999  27.928671  520.960327  83.501373  383.516144   \n",
              "2023-08-29  134.910004  28.326817  527.353577  83.739494  381.461548   \n",
              "2023-08-30  135.070007  28.200577  526.858032  83.620430  389.383698   \n",
              "...                ...        ...         ...        ...         ...   \n",
              "2024-08-19  178.220001  39.669998  872.349976  90.820000  432.839996   \n",
              "2024-08-20  178.880005  38.689999  876.200012  89.739998  427.059998   \n",
              "2024-08-21  180.110001  38.750000  881.419983  90.720001  427.700012   \n",
              "2024-08-22  176.130005  39.240002  877.559998  89.919998  416.230011   \n",
              "2024-08-23  177.039993  39.770000  879.210022  90.559998  425.279999   \n",
              "\n",
              "Ticker             KO         MCD        MSFT       NAT       SBUX  \n",
              "Date                                                                \n",
              "2023-08-24  58.244312  275.797394  317.586182  3.767292  92.482864  \n",
              "2023-08-25  58.515614  277.975647  320.573761  3.677595  93.116783  \n",
              "2023-08-28  58.680344  277.096527  321.288391  3.560988  94.638168  \n",
              "2023-08-29  58.622204  277.008636  325.963287  3.695535  96.695953  \n",
              "2023-08-30  58.593140  277.643524  326.340485  3.596868  96.783707  \n",
              "...               ...         ...         ...       ...        ...  \n",
              "2024-08-19  68.980003  287.549988  421.529999  3.640000  92.300003  \n",
              "2024-08-20  69.379997  285.630005  424.799988  3.600000  93.010002  \n",
              "2024-08-21  69.570000  289.709991  424.140015  3.620000  92.779999  \n",
              "2024-08-22  69.330002  289.209991  415.549988  3.560000  92.430000  \n",
              "2024-08-23  69.790001  289.519989  416.790009  3.630000  94.019997  \n",
              "\n",
              "[252 rows x 10 columns]"
            ],
            "text/html": [
              "\n",
              "  <div id=\"df-fc577722-9e3f-459c-b3f6-63f24ed317fb\" class=\"colab-df-container\">\n",
              "    <div>\n",
              "<style scoped>\n",
              "    .dataframe tbody tr th:only-of-type {\n",
              "        vertical-align: middle;\n",
              "    }\n",
              "\n",
              "    .dataframe tbody tr th {\n",
              "        vertical-align: top;\n",
              "    }\n",
              "\n",
              "    .dataframe thead th {\n",
              "        text-align: right;\n",
              "    }\n",
              "</style>\n",
              "<table border=\"1\" class=\"dataframe\">\n",
              "  <thead>\n",
              "    <tr style=\"text-align: right;\">\n",
              "      <th>Ticker</th>\n",
              "      <th>AMZN</th>\n",
              "      <th>BAC</th>\n",
              "      <th>COST</th>\n",
              "      <th>DIS</th>\n",
              "      <th>DPZ</th>\n",
              "      <th>KO</th>\n",
              "      <th>MCD</th>\n",
              "      <th>MSFT</th>\n",
              "      <th>NAT</th>\n",
              "      <th>SBUX</th>\n",
              "    </tr>\n",
              "    <tr>\n",
              "      <th>Date</th>\n",
              "      <th></th>\n",
              "      <th></th>\n",
              "      <th></th>\n",
              "      <th></th>\n",
              "      <th></th>\n",
              "      <th></th>\n",
              "      <th></th>\n",
              "      <th></th>\n",
              "      <th></th>\n",
              "      <th></th>\n",
              "    </tr>\n",
              "  </thead>\n",
              "  <tbody>\n",
              "    <tr>\n",
              "      <th>2023-08-24</th>\n",
              "      <td>131.839996</td>\n",
              "      <td>27.792717</td>\n",
              "      <td>516.607605</td>\n",
              "      <td>81.824600</td>\n",
              "      <td>374.240601</td>\n",
              "      <td>58.244312</td>\n",
              "      <td>275.797394</td>\n",
              "      <td>317.586182</td>\n",
              "      <td>3.767292</td>\n",
              "      <td>92.482864</td>\n",
              "    </tr>\n",
              "    <tr>\n",
              "      <th>2023-08-25</th>\n",
              "      <td>133.259995</td>\n",
              "      <td>27.676186</td>\n",
              "      <td>518.842346</td>\n",
              "      <td>82.707634</td>\n",
              "      <td>376.077942</td>\n",
              "      <td>58.515614</td>\n",
              "      <td>277.975647</td>\n",
              "      <td>320.573761</td>\n",
              "      <td>3.677595</td>\n",
              "      <td>93.116783</td>\n",
              "    </tr>\n",
              "    <tr>\n",
              "      <th>2023-08-28</th>\n",
              "      <td>133.139999</td>\n",
              "      <td>27.928671</td>\n",
              "      <td>520.960327</td>\n",
              "      <td>83.501373</td>\n",
              "      <td>383.516144</td>\n",
              "      <td>58.680344</td>\n",
              "      <td>277.096527</td>\n",
              "      <td>321.288391</td>\n",
              "      <td>3.560988</td>\n",
              "      <td>94.638168</td>\n",
              "    </tr>\n",
              "    <tr>\n",
              "      <th>2023-08-29</th>\n",
              "      <td>134.910004</td>\n",
              "      <td>28.326817</td>\n",
              "      <td>527.353577</td>\n",
              "      <td>83.739494</td>\n",
              "      <td>381.461548</td>\n",
              "      <td>58.622204</td>\n",
              "      <td>277.008636</td>\n",
              "      <td>325.963287</td>\n",
              "      <td>3.695535</td>\n",
              "      <td>96.695953</td>\n",
              "    </tr>\n",
              "    <tr>\n",
              "      <th>2023-08-30</th>\n",
              "      <td>135.070007</td>\n",
              "      <td>28.200577</td>\n",
              "      <td>526.858032</td>\n",
              "      <td>83.620430</td>\n",
              "      <td>389.383698</td>\n",
              "      <td>58.593140</td>\n",
              "      <td>277.643524</td>\n",
              "      <td>326.340485</td>\n",
              "      <td>3.596868</td>\n",
              "      <td>96.783707</td>\n",
              "    </tr>\n",
              "    <tr>\n",
              "      <th>...</th>\n",
              "      <td>...</td>\n",
              "      <td>...</td>\n",
              "      <td>...</td>\n",
              "      <td>...</td>\n",
              "      <td>...</td>\n",
              "      <td>...</td>\n",
              "      <td>...</td>\n",
              "      <td>...</td>\n",
              "      <td>...</td>\n",
              "      <td>...</td>\n",
              "    </tr>\n",
              "    <tr>\n",
              "      <th>2024-08-19</th>\n",
              "      <td>178.220001</td>\n",
              "      <td>39.669998</td>\n",
              "      <td>872.349976</td>\n",
              "      <td>90.820000</td>\n",
              "      <td>432.839996</td>\n",
              "      <td>68.980003</td>\n",
              "      <td>287.549988</td>\n",
              "      <td>421.529999</td>\n",
              "      <td>3.640000</td>\n",
              "      <td>92.300003</td>\n",
              "    </tr>\n",
              "    <tr>\n",
              "      <th>2024-08-20</th>\n",
              "      <td>178.880005</td>\n",
              "      <td>38.689999</td>\n",
              "      <td>876.200012</td>\n",
              "      <td>89.739998</td>\n",
              "      <td>427.059998</td>\n",
              "      <td>69.379997</td>\n",
              "      <td>285.630005</td>\n",
              "      <td>424.799988</td>\n",
              "      <td>3.600000</td>\n",
              "      <td>93.010002</td>\n",
              "    </tr>\n",
              "    <tr>\n",
              "      <th>2024-08-21</th>\n",
              "      <td>180.110001</td>\n",
              "      <td>38.750000</td>\n",
              "      <td>881.419983</td>\n",
              "      <td>90.720001</td>\n",
              "      <td>427.700012</td>\n",
              "      <td>69.570000</td>\n",
              "      <td>289.709991</td>\n",
              "      <td>424.140015</td>\n",
              "      <td>3.620000</td>\n",
              "      <td>92.779999</td>\n",
              "    </tr>\n",
              "    <tr>\n",
              "      <th>2024-08-22</th>\n",
              "      <td>176.130005</td>\n",
              "      <td>39.240002</td>\n",
              "      <td>877.559998</td>\n",
              "      <td>89.919998</td>\n",
              "      <td>416.230011</td>\n",
              "      <td>69.330002</td>\n",
              "      <td>289.209991</td>\n",
              "      <td>415.549988</td>\n",
              "      <td>3.560000</td>\n",
              "      <td>92.430000</td>\n",
              "    </tr>\n",
              "    <tr>\n",
              "      <th>2024-08-23</th>\n",
              "      <td>177.039993</td>\n",
              "      <td>39.770000</td>\n",
              "      <td>879.210022</td>\n",
              "      <td>90.559998</td>\n",
              "      <td>425.279999</td>\n",
              "      <td>69.790001</td>\n",
              "      <td>289.519989</td>\n",
              "      <td>416.790009</td>\n",
              "      <td>3.630000</td>\n",
              "      <td>94.019997</td>\n",
              "    </tr>\n",
              "  </tbody>\n",
              "</table>\n",
              "<p>252 rows × 10 columns</p>\n",
              "</div>\n",
              "    <div class=\"colab-df-buttons\">\n",
              "\n",
              "  <div class=\"colab-df-container\">\n",
              "    <button class=\"colab-df-convert\" onclick=\"convertToInteractive('df-fc577722-9e3f-459c-b3f6-63f24ed317fb')\"\n",
              "            title=\"Convert this dataframe to an interactive table.\"\n",
              "            style=\"display:none;\">\n",
              "\n",
              "  <svg xmlns=\"http://www.w3.org/2000/svg\" height=\"24px\" viewBox=\"0 -960 960 960\">\n",
              "    <path d=\"M120-120v-720h720v720H120Zm60-500h600v-160H180v160Zm220 220h160v-160H400v160Zm0 220h160v-160H400v160ZM180-400h160v-160H180v160Zm440 0h160v-160H620v160ZM180-180h160v-160H180v160Zm440 0h160v-160H620v160Z\"/>\n",
              "  </svg>\n",
              "    </button>\n",
              "\n",
              "  <style>\n",
              "    .colab-df-container {\n",
              "      display:flex;\n",
              "      gap: 12px;\n",
              "    }\n",
              "\n",
              "    .colab-df-convert {\n",
              "      background-color: #E8F0FE;\n",
              "      border: none;\n",
              "      border-radius: 50%;\n",
              "      cursor: pointer;\n",
              "      display: none;\n",
              "      fill: #1967D2;\n",
              "      height: 32px;\n",
              "      padding: 0 0 0 0;\n",
              "      width: 32px;\n",
              "    }\n",
              "\n",
              "    .colab-df-convert:hover {\n",
              "      background-color: #E2EBFA;\n",
              "      box-shadow: 0px 1px 2px rgba(60, 64, 67, 0.3), 0px 1px 3px 1px rgba(60, 64, 67, 0.15);\n",
              "      fill: #174EA6;\n",
              "    }\n",
              "\n",
              "    .colab-df-buttons div {\n",
              "      margin-bottom: 4px;\n",
              "    }\n",
              "\n",
              "    [theme=dark] .colab-df-convert {\n",
              "      background-color: #3B4455;\n",
              "      fill: #D2E3FC;\n",
              "    }\n",
              "\n",
              "    [theme=dark] .colab-df-convert:hover {\n",
              "      background-color: #434B5C;\n",
              "      box-shadow: 0px 1px 3px 1px rgba(0, 0, 0, 0.15);\n",
              "      filter: drop-shadow(0px 1px 2px rgba(0, 0, 0, 0.3));\n",
              "      fill: #FFFFFF;\n",
              "    }\n",
              "  </style>\n",
              "\n",
              "    <script>\n",
              "      const buttonEl =\n",
              "        document.querySelector('#df-fc577722-9e3f-459c-b3f6-63f24ed317fb button.colab-df-convert');\n",
              "      buttonEl.style.display =\n",
              "        google.colab.kernel.accessAllowed ? 'block' : 'none';\n",
              "\n",
              "      async function convertToInteractive(key) {\n",
              "        const element = document.querySelector('#df-fc577722-9e3f-459c-b3f6-63f24ed317fb');\n",
              "        const dataTable =\n",
              "          await google.colab.kernel.invokeFunction('convertToInteractive',\n",
              "                                                    [key], {});\n",
              "        if (!dataTable) return;\n",
              "\n",
              "        const docLinkHtml = 'Like what you see? Visit the ' +\n",
              "          '<a target=\"_blank\" href=https://colab.research.google.com/notebooks/data_table.ipynb>data table notebook</a>'\n",
              "          + ' to learn more about interactive tables.';\n",
              "        element.innerHTML = '';\n",
              "        dataTable['output_type'] = 'display_data';\n",
              "        await google.colab.output.renderOutput(dataTable, element);\n",
              "        const docLink = document.createElement('div');\n",
              "        docLink.innerHTML = docLinkHtml;\n",
              "        element.appendChild(docLink);\n",
              "      }\n",
              "    </script>\n",
              "  </div>\n",
              "\n",
              "\n",
              "<div id=\"df-eaceaee1-fb76-41c0-b95d-209fd9137eb8\">\n",
              "  <button class=\"colab-df-quickchart\" onclick=\"quickchart('df-eaceaee1-fb76-41c0-b95d-209fd9137eb8')\"\n",
              "            title=\"Suggest charts\"\n",
              "            style=\"display:none;\">\n",
              "\n",
              "<svg xmlns=\"http://www.w3.org/2000/svg\" height=\"24px\"viewBox=\"0 0 24 24\"\n",
              "     width=\"24px\">\n",
              "    <g>\n",
              "        <path d=\"M19 3H5c-1.1 0-2 .9-2 2v14c0 1.1.9 2 2 2h14c1.1 0 2-.9 2-2V5c0-1.1-.9-2-2-2zM9 17H7v-7h2v7zm4 0h-2V7h2v10zm4 0h-2v-4h2v4z\"/>\n",
              "    </g>\n",
              "</svg>\n",
              "  </button>\n",
              "\n",
              "<style>\n",
              "  .colab-df-quickchart {\n",
              "      --bg-color: #E8F0FE;\n",
              "      --fill-color: #1967D2;\n",
              "      --hover-bg-color: #E2EBFA;\n",
              "      --hover-fill-color: #174EA6;\n",
              "      --disabled-fill-color: #AAA;\n",
              "      --disabled-bg-color: #DDD;\n",
              "  }\n",
              "\n",
              "  [theme=dark] .colab-df-quickchart {\n",
              "      --bg-color: #3B4455;\n",
              "      --fill-color: #D2E3FC;\n",
              "      --hover-bg-color: #434B5C;\n",
              "      --hover-fill-color: #FFFFFF;\n",
              "      --disabled-bg-color: #3B4455;\n",
              "      --disabled-fill-color: #666;\n",
              "  }\n",
              "\n",
              "  .colab-df-quickchart {\n",
              "    background-color: var(--bg-color);\n",
              "    border: none;\n",
              "    border-radius: 50%;\n",
              "    cursor: pointer;\n",
              "    display: none;\n",
              "    fill: var(--fill-color);\n",
              "    height: 32px;\n",
              "    padding: 0;\n",
              "    width: 32px;\n",
              "  }\n",
              "\n",
              "  .colab-df-quickchart:hover {\n",
              "    background-color: var(--hover-bg-color);\n",
              "    box-shadow: 0 1px 2px rgba(60, 64, 67, 0.3), 0 1px 3px 1px rgba(60, 64, 67, 0.15);\n",
              "    fill: var(--button-hover-fill-color);\n",
              "  }\n",
              "\n",
              "  .colab-df-quickchart-complete:disabled,\n",
              "  .colab-df-quickchart-complete:disabled:hover {\n",
              "    background-color: var(--disabled-bg-color);\n",
              "    fill: var(--disabled-fill-color);\n",
              "    box-shadow: none;\n",
              "  }\n",
              "\n",
              "  .colab-df-spinner {\n",
              "    border: 2px solid var(--fill-color);\n",
              "    border-color: transparent;\n",
              "    border-bottom-color: var(--fill-color);\n",
              "    animation:\n",
              "      spin 1s steps(1) infinite;\n",
              "  }\n",
              "\n",
              "  @keyframes spin {\n",
              "    0% {\n",
              "      border-color: transparent;\n",
              "      border-bottom-color: var(--fill-color);\n",
              "      border-left-color: var(--fill-color);\n",
              "    }\n",
              "    20% {\n",
              "      border-color: transparent;\n",
              "      border-left-color: var(--fill-color);\n",
              "      border-top-color: var(--fill-color);\n",
              "    }\n",
              "    30% {\n",
              "      border-color: transparent;\n",
              "      border-left-color: var(--fill-color);\n",
              "      border-top-color: var(--fill-color);\n",
              "      border-right-color: var(--fill-color);\n",
              "    }\n",
              "    40% {\n",
              "      border-color: transparent;\n",
              "      border-right-color: var(--fill-color);\n",
              "      border-top-color: var(--fill-color);\n",
              "    }\n",
              "    60% {\n",
              "      border-color: transparent;\n",
              "      border-right-color: var(--fill-color);\n",
              "    }\n",
              "    80% {\n",
              "      border-color: transparent;\n",
              "      border-right-color: var(--fill-color);\n",
              "      border-bottom-color: var(--fill-color);\n",
              "    }\n",
              "    90% {\n",
              "      border-color: transparent;\n",
              "      border-bottom-color: var(--fill-color);\n",
              "    }\n",
              "  }\n",
              "</style>\n",
              "\n",
              "  <script>\n",
              "    async function quickchart(key) {\n",
              "      const quickchartButtonEl =\n",
              "        document.querySelector('#' + key + ' button');\n",
              "      quickchartButtonEl.disabled = true;  // To prevent multiple clicks.\n",
              "      quickchartButtonEl.classList.add('colab-df-spinner');\n",
              "      try {\n",
              "        const charts = await google.colab.kernel.invokeFunction(\n",
              "            'suggestCharts', [key], {});\n",
              "      } catch (error) {\n",
              "        console.error('Error during call to suggestCharts:', error);\n",
              "      }\n",
              "      quickchartButtonEl.classList.remove('colab-df-spinner');\n",
              "      quickchartButtonEl.classList.add('colab-df-quickchart-complete');\n",
              "    }\n",
              "    (() => {\n",
              "      let quickchartButtonEl =\n",
              "        document.querySelector('#df-eaceaee1-fb76-41c0-b95d-209fd9137eb8 button');\n",
              "      quickchartButtonEl.style.display =\n",
              "        google.colab.kernel.accessAllowed ? 'block' : 'none';\n",
              "    })();\n",
              "  </script>\n",
              "</div>\n",
              "\n",
              "  <div id=\"id_ba168aa5-8875-42c5-94fe-f4ef3d3a84df\">\n",
              "    <style>\n",
              "      .colab-df-generate {\n",
              "        background-color: #E8F0FE;\n",
              "        border: none;\n",
              "        border-radius: 50%;\n",
              "        cursor: pointer;\n",
              "        display: none;\n",
              "        fill: #1967D2;\n",
              "        height: 32px;\n",
              "        padding: 0 0 0 0;\n",
              "        width: 32px;\n",
              "      }\n",
              "\n",
              "      .colab-df-generate:hover {\n",
              "        background-color: #E2EBFA;\n",
              "        box-shadow: 0px 1px 2px rgba(60, 64, 67, 0.3), 0px 1px 3px 1px rgba(60, 64, 67, 0.15);\n",
              "        fill: #174EA6;\n",
              "      }\n",
              "\n",
              "      [theme=dark] .colab-df-generate {\n",
              "        background-color: #3B4455;\n",
              "        fill: #D2E3FC;\n",
              "      }\n",
              "\n",
              "      [theme=dark] .colab-df-generate:hover {\n",
              "        background-color: #434B5C;\n",
              "        box-shadow: 0px 1px 3px 1px rgba(0, 0, 0, 0.15);\n",
              "        filter: drop-shadow(0px 1px 2px rgba(0, 0, 0, 0.3));\n",
              "        fill: #FFFFFF;\n",
              "      }\n",
              "    </style>\n",
              "    <button class=\"colab-df-generate\" onclick=\"generateWithVariable('prices')\"\n",
              "            title=\"Generate code using this dataframe.\"\n",
              "            style=\"display:none;\">\n",
              "\n",
              "  <svg xmlns=\"http://www.w3.org/2000/svg\" height=\"24px\"viewBox=\"0 0 24 24\"\n",
              "       width=\"24px\">\n",
              "    <path d=\"M7,19H8.4L18.45,9,17,7.55,7,17.6ZM5,21V16.75L18.45,3.32a2,2,0,0,1,2.83,0l1.4,1.43a1.91,1.91,0,0,1,.58,1.4,1.91,1.91,0,0,1-.58,1.4L9.25,21ZM18.45,9,17,7.55Zm-12,3A5.31,5.31,0,0,0,4.9,8.1,5.31,5.31,0,0,0,1,6.5,5.31,5.31,0,0,0,4.9,4.9,5.31,5.31,0,0,0,6.5,1,5.31,5.31,0,0,0,8.1,4.9,5.31,5.31,0,0,0,12,6.5,5.46,5.46,0,0,0,6.5,12Z\"/>\n",
              "  </svg>\n",
              "    </button>\n",
              "    <script>\n",
              "      (() => {\n",
              "      const buttonEl =\n",
              "        document.querySelector('#id_ba168aa5-8875-42c5-94fe-f4ef3d3a84df button.colab-df-generate');\n",
              "      buttonEl.style.display =\n",
              "        google.colab.kernel.accessAllowed ? 'block' : 'none';\n",
              "\n",
              "      buttonEl.onclick = () => {\n",
              "        google.colab.notebook.generateWithVariable('prices');\n",
              "      }\n",
              "      })();\n",
              "    </script>\n",
              "  </div>\n",
              "\n",
              "    </div>\n",
              "  </div>\n"
            ],
            "application/vnd.google.colaboratory.intrinsic+json": {
              "type": "dataframe",
              "variable_name": "prices",
              "summary": "{\n  \"name\": \"prices\",\n  \"rows\": 252,\n  \"fields\": [\n    {\n      \"column\": \"Date\",\n      \"properties\": {\n        \"dtype\": \"date\",\n        \"min\": \"2023-08-24 00:00:00\",\n        \"max\": \"2024-08-23 00:00:00\",\n        \"num_unique_values\": 252,\n        \"samples\": [\n          \"2024-04-22 00:00:00\",\n          \"2023-09-01 00:00:00\",\n          \"2024-02-02 00:00:00\"\n        ],\n        \"semantic_type\": \"\",\n        \"description\": \"\"\n      }\n    },\n    {\n      \"column\": \"AMZN\",\n      \"properties\": {\n        \"dtype\": \"number\",\n        \"std\": 21.433695324153806,\n        \"min\": 119.56999969482422,\n        \"max\": 200.0,\n        \"num_unique_values\": 242,\n        \"samples\": [\n          129.4600067138672,\n          138.1199951171875,\n          189.0500030517578\n        ],\n        \"semantic_type\": \"\",\n        \"description\": \"\"\n      }\n    },\n    {\n      \"column\": \"BAC\",\n      \"properties\": {\n        \"dtype\": \"number\",\n        \"std\": 5.045548945543685,\n        \"min\": 24.646127700805664,\n        \"max\": 44.130001068115234,\n        \"num_unique_values\": 236,\n        \"samples\": [\n          30.133169174194336,\n          39.2599983215332,\n          38.39646911621094\n        ],\n        \"semantic_type\": \"\",\n        \"description\": \"\"\n      }\n    },\n    {\n      \"column\": \"COST\",\n      \"properties\": {\n        \"dtype\": \"number\",\n        \"std\": 114.2264317902912,\n        \"min\": 516.6076049804688,\n        \"max\": 885.5891723632812,\n        \"num_unique_values\": 252,\n        \"samples\": [\n          713.2980346679688,\n          528.79150390625,\n          707.3360595703125\n        ],\n        \"semantic_type\": \"\",\n        \"description\": \"\"\n      }\n    },\n    {\n      \"column\": \"DIS\",\n      \"properties\": {\n        \"dtype\": \"number\",\n        \"std\": 11.462650110614069,\n        \"min\": 78.69925689697266,\n        \"max\": 122.25597381591797,\n        \"num_unique_values\": 242,\n        \"samples\": [\n          80.41571044921875,\n          81.00109100341797,\n          116.6518325805664\n        ],\n        \"semantic_type\": \"\",\n        \"description\": \"\"\n      }\n    },\n    {\n      \"column\": \"DPZ\",\n      \"properties\": {\n        \"dtype\": \"number\",\n        \"std\": 55.732706291462975,\n        \"min\": 335.6044616699219,\n        \"max\": 533.6400146484375,\n        \"num_unique_values\": 251,\n        \"samples\": [\n          497.02655029296875,\n          386.3709716796875,\n          469.93414306640625\n        ],\n        \"semantic_type\": \"\",\n        \"description\": \"\"\n      }\n    },\n    {\n      \"column\": \"KO\",\n      \"properties\": {\n        \"dtype\": \"number\",\n        \"std\": 4.000053964360426,\n        \"min\": 51.15690994262695,\n        \"max\": 69.79000091552734,\n        \"num_unique_values\": 237,\n        \"samples\": [\n          60.2862663269043,\n          56.93867111206055,\n          65.20999908447266\n        ],\n        \"semantic_type\": \"\",\n        \"description\": \"\"\n      }\n    },\n    {\n      \"column\": \"MCD\",\n      \"properties\": {\n        \"dtype\": \"number\",\n        \"std\": 14.303279285674337,\n        \"min\": 241.76947021484375,\n        \"max\": 296.9021301269531,\n        \"num_unique_values\": 250,\n        \"samples\": [\n          282.6151428222656,\n          275.8955078125,\n          287.57611083984375\n        ],\n        \"semantic_type\": \"\",\n        \"description\": \"\"\n      }\n    },\n    {\n      \"column\": \"MSFT\",\n      \"properties\": {\n        \"dtype\": \"number\",\n        \"std\": 40.388829973375216,\n        \"min\": 309.8145446777344,\n        \"max\": 466.7187805175781,\n        \"num_unique_values\": 251,\n        \"samples\": [\n          423.06298828125,\n          326.21142578125,\n          399.5179748535156\n        ],\n        \"semantic_type\": \"\",\n        \"description\": \"\"\n      }\n    },\n    {\n      \"column\": \"NAT\",\n      \"properties\": {\n        \"dtype\": \"number\",\n        \"std\": 0.22477583365570758,\n        \"min\": 3.354684352874756,\n        \"max\": 4.4293036460876465,\n        \"num_unique_values\": 164,\n        \"samples\": [\n          3.9420337677001953,\n          3.8449394702911377,\n          3.922614812850952\n        ],\n        \"semantic_type\": \"\",\n        \"description\": \"\"\n      }\n    },\n    {\n      \"column\": \"SBUX\",\n      \"properties\": {\n        \"dtype\": \"number\",\n        \"std\": 8.183498101802318,\n        \"min\": 71.52182006835938,\n        \"max\": 105.13098907470703,\n        \"num_unique_values\": 245,\n        \"samples\": [\n          88.82568359375,\n          95.57440185546875,\n          84.79035186767578\n        ],\n        \"semantic_type\": \"\",\n        \"description\": \"\"\n      }\n    }\n  ]\n}"
            }
          },
          "metadata": {},
          "execution_count": 8
        }
      ],
      "source": [
        "ohlc = yf.download(tickers, period=\"1y\")\n",
        "prices = ohlc[\"Adj Close\"]\n",
        "prices"
      ]
    },
    {
      "cell_type": "code",
      "source": [
        "prices.index"
      ],
      "metadata": {
        "colab": {
          "base_uri": "https://localhost:8080/"
        },
        "id": "siif_tVki7IA",
        "outputId": "8e45dda7-5128-41c9-f7b3-5032cfdd809b"
      },
      "execution_count": null,
      "outputs": [
        {
          "output_type": "execute_result",
          "data": {
            "text/plain": [
              "DatetimeIndex(['2023-08-24', '2023-08-25', '2023-08-28', '2023-08-29',\n",
              "               '2023-08-30', '2023-08-31', '2023-09-01', '2023-09-05',\n",
              "               '2023-09-06', '2023-09-07',\n",
              "               ...\n",
              "               '2024-08-12', '2024-08-13', '2024-08-14', '2024-08-15',\n",
              "               '2024-08-16', '2024-08-19', '2024-08-20', '2024-08-21',\n",
              "               '2024-08-22', '2024-08-23'],\n",
              "              dtype='datetime64[ns]', name='Date', length=252, freq=None)"
            ]
          },
          "metadata": {},
          "execution_count": 9
        }
      ]
    },
    {
      "cell_type": "markdown",
      "source": [
        "En algún momento, tomaremos un modo en que se siente el mercado, y el mejor indicador para eso son los precios del S&P500"
      ],
      "metadata": {
        "id": "5EeS8e2QHCOE"
      }
    },
    {
      "cell_type": "code",
      "execution_count": null,
      "metadata": {
        "id": "WmtKlXfLAbNi",
        "colab": {
          "base_uri": "https://localhost:8080/",
          "height": 289
        },
        "outputId": "cbb39dc4-6989-4c2b-dbf4-82cd666c3b96"
      },
      "outputs": [
        {
          "output_type": "stream",
          "name": "stderr",
          "text": [
            "\r[*********************100%%**********************]  1 of 1 completed\n"
          ]
        },
        {
          "output_type": "execute_result",
          "data": {
            "text/plain": [
              "Date\n",
              "2023-08-24    430.863373\n",
              "2023-08-25    433.900879\n",
              "2023-08-28    436.652405\n",
              "2023-08-29    442.964081\n",
              "2023-08-30    444.788574\n",
              "Name: Adj Close, dtype: float64"
            ],
            "text/html": [
              "<div>\n",
              "<style scoped>\n",
              "    .dataframe tbody tr th:only-of-type {\n",
              "        vertical-align: middle;\n",
              "    }\n",
              "\n",
              "    .dataframe tbody tr th {\n",
              "        vertical-align: top;\n",
              "    }\n",
              "\n",
              "    .dataframe thead th {\n",
              "        text-align: right;\n",
              "    }\n",
              "</style>\n",
              "<table border=\"1\" class=\"dataframe\">\n",
              "  <thead>\n",
              "    <tr style=\"text-align: right;\">\n",
              "      <th></th>\n",
              "      <th>Adj Close</th>\n",
              "    </tr>\n",
              "    <tr>\n",
              "      <th>Date</th>\n",
              "      <th></th>\n",
              "    </tr>\n",
              "  </thead>\n",
              "  <tbody>\n",
              "    <tr>\n",
              "      <th>2023-08-24</th>\n",
              "      <td>430.863373</td>\n",
              "    </tr>\n",
              "    <tr>\n",
              "      <th>2023-08-25</th>\n",
              "      <td>433.900879</td>\n",
              "    </tr>\n",
              "    <tr>\n",
              "      <th>2023-08-28</th>\n",
              "      <td>436.652405</td>\n",
              "    </tr>\n",
              "    <tr>\n",
              "      <th>2023-08-29</th>\n",
              "      <td>442.964081</td>\n",
              "    </tr>\n",
              "    <tr>\n",
              "      <th>2023-08-30</th>\n",
              "      <td>444.788574</td>\n",
              "    </tr>\n",
              "  </tbody>\n",
              "</table>\n",
              "</div><br><label><b>dtype:</b> float64</label>"
            ]
          },
          "metadata": {},
          "execution_count": 10
        }
      ],
      "source": [
        "market_prices = yf.download(\"SPY\", period=\"1y\")[\"Adj Close\"]\n",
        "market_prices.head()"
      ]
    },
    {
      "cell_type": "markdown",
      "source": [
        "Aquí obtenemos la capitalizacion del mercado, que se obtiene como:\n",
        "\n",
        "$$ Market Cap = Precio \\, del \\, activo \\,\\, X \\,\\, Cantidad \\, de \\, acciones\\, que\\, hay\\, en\\, el\\, mercado $$"
      ],
      "metadata": {
        "id": "MzfVdxg2HJHc"
      }
    },
    {
      "cell_type": "code",
      "execution_count": null,
      "metadata": {
        "id": "rZwXHHxxAbNi",
        "colab": {
          "base_uri": "https://localhost:8080/"
        },
        "outputId": "a4c0e851-fb42-4017-96ed-b36b080078bc"
      },
      "outputs": [
        {
          "output_type": "execute_result",
          "data": {
            "text/plain": [
              "{'MSFT': 3098016743424,\n",
              " 'AMZN': 1858140897280,\n",
              " 'NAT': 757929472,\n",
              " 'BAC': 308598505472,\n",
              " 'DPZ': 14873402368,\n",
              " 'DIS': 164238704640,\n",
              " 'KO': 300785827840,\n",
              " 'MCD': 207685124096,\n",
              " 'COST': 389784567808,\n",
              " 'SBUX': 106543456256}"
            ]
          },
          "metadata": {},
          "execution_count": 11
        }
      ],
      "source": [
        "mcaps = {}\n",
        "for t in tickers:\n",
        "    stock = yf.Ticker(t)\n",
        "    mcaps[t] = stock.info[\"marketCap\"]\n",
        "mcaps"
      ]
    },
    {
      "cell_type": "markdown",
      "metadata": {
        "id": "w6cnqTB8AbNi"
      },
      "source": [
        "# Construyendo las medias a Priori"
      ]
    },
    {
      "cell_type": "code",
      "execution_count": null,
      "metadata": {
        "id": "KMyL_d0mAbNj",
        "colab": {
          "base_uri": "https://localhost:8080/",
          "height": 36
        },
        "outputId": "ddc15842-2c8f-46e5-9f72-dc48cfbd447a"
      },
      "outputs": [
        {
          "output_type": "execute_result",
          "data": {
            "text/plain": [
              "'1.5.5'"
            ],
            "application/vnd.google.colaboratory.intrinsic+json": {
              "type": "string"
            }
          },
          "metadata": {},
          "execution_count": 12
        }
      ],
      "source": [
        "import pypfopt\n",
        "pypfopt.__version__"
      ]
    },
    {
      "cell_type": "code",
      "execution_count": null,
      "metadata": {
        "id": "V35ccSUSAbNj",
        "colab": {
          "base_uri": "https://localhost:8080/"
        },
        "outputId": "a50bc4c7-9fd8-482b-fadc-a4857284fc77"
      },
      "outputs": [
        {
          "output_type": "execute_result",
          "data": {
            "text/plain": [
              "16.579611303747264"
            ]
          },
          "metadata": {},
          "execution_count": 13
        }
      ],
      "source": [
        "from pypfopt import black_litterman, risk_models\n",
        "from pypfopt import BlackLittermanModel, plotting\n",
        "\n",
        "S = risk_models.CovarianceShrinkage(prices).ledoit_wolf()\n",
        "delta = black_litterman.market_implied_risk_aversion(market_prices)\n",
        "delta"
      ]
    },
    {
      "cell_type": "markdown",
      "source": [
        "Aquí se calcula $\\delta$, que es la compensación que tienen los inversores de acuerdo al riesgo que asumen:\n",
        "\n",
        "![image.png](data:image/png;base64,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)"
      ],
      "metadata": {
        "id": "aBZ4655VKAD_"
      }
    },
    {
      "cell_type": "markdown",
      "source": [
        "Esta se va a usar para calcular los retornos dado el mercado:\n",
        "\n",
        "![image.png](data:image/png;base64,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)"
      ],
      "metadata": {
        "id": "PARGS0RcKLU9"
      }
    },
    {
      "cell_type": "code",
      "execution_count": null,
      "metadata": {
        "id": "tgz3bOltAbNj",
        "colab": {
          "base_uri": "https://localhost:8080/",
          "height": 487
        },
        "outputId": "85d559bf-2e2c-4fa9-af56-086f923ed7e3"
      },
      "outputs": [
        {
          "output_type": "display_data",
          "data": {
            "text/plain": [
              "<Figure size 640x480 with 2 Axes>"
            ],
            "image/png": "[encoded data removed]"
          },
          "metadata": {}
        }
      ],
      "source": [
        "plotting.plot_covariance(S, plot_correlation=True);"
      ]
    },
    {
      "cell_type": "code",
      "execution_count": null,
      "metadata": {
        "id": "qknxazUhAbNk",
        "colab": {
          "base_uri": "https://localhost:8080/",
          "height": 429
        },
        "outputId": "0c493c9f-803f-4c7b-a70f-e80213a3d59b"
      },
      "outputs": [
        {
          "output_type": "execute_result",
          "data": {
            "text/plain": [
              "Ticker\n",
              "AMZN    0.597342\n",
              "BAC     0.138601\n",
              "COST    0.229571\n",
              "DIS     0.153504\n",
              "DPZ     0.141153\n",
              "KO      0.073724\n",
              "MCD     0.096306\n",
              "MSFT    0.531775\n",
              "NAT     0.063909\n",
              "SBUX    0.175435\n",
              "dtype: float64"
            ],
            "text/html": [
              "<div>\n",
              "<style scoped>\n",
              "    .dataframe tbody tr th:only-of-type {\n",
              "        vertical-align: middle;\n",
              "    }\n",
              "\n",
              "    .dataframe tbody tr th {\n",
              "        vertical-align: top;\n",
              "    }\n",
              "\n",
              "    .dataframe thead th {\n",
              "        text-align: right;\n",
              "    }\n",
              "</style>\n",
              "<table border=\"1\" class=\"dataframe\">\n",
              "  <thead>\n",
              "    <tr style=\"text-align: right;\">\n",
              "      <th></th>\n",
              "      <th>0</th>\n",
              "    </tr>\n",
              "    <tr>\n",
              "      <th>Ticker</th>\n",
              "      <th></th>\n",
              "    </tr>\n",
              "  </thead>\n",
              "  <tbody>\n",
              "    <tr>\n",
              "      <th>AMZN</th>\n",
              "      <td>0.597342</td>\n",
              "    </tr>\n",
              "    <tr>\n",
              "      <th>BAC</th>\n",
              "      <td>0.138601</td>\n",
              "    </tr>\n",
              "    <tr>\n",
              "      <th>COST</th>\n",
              "      <td>0.229571</td>\n",
              "    </tr>\n",
              "    <tr>\n",
              "      <th>DIS</th>\n",
              "      <td>0.153504</td>\n",
              "    </tr>\n",
              "    <tr>\n",
              "      <th>DPZ</th>\n",
              "      <td>0.141153</td>\n",
              "    </tr>\n",
              "    <tr>\n",
              "      <th>KO</th>\n",
              "      <td>0.073724</td>\n",
              "    </tr>\n",
              "    <tr>\n",
              "      <th>MCD</th>\n",
              "      <td>0.096306</td>\n",
              "    </tr>\n",
              "    <tr>\n",
              "      <th>MSFT</th>\n",
              "      <td>0.531775</td>\n",
              "    </tr>\n",
              "    <tr>\n",
              "      <th>NAT</th>\n",
              "      <td>0.063909</td>\n",
              "    </tr>\n",
              "    <tr>\n",
              "      <th>SBUX</th>\n",
              "      <td>0.175435</td>\n",
              "    </tr>\n",
              "  </tbody>\n",
              "</table>\n",
              "</div><br><label><b>dtype:</b> float64</label>"
            ]
          },
          "metadata": {},
          "execution_count": 15
        }
      ],
      "source": [
        "market_prior = black_litterman.market_implied_prior_returns(mcaps, delta, S)\n",
        "market_prior"
      ]
    },
    {
      "cell_type": "code",
      "execution_count": null,
      "metadata": {
        "id": "9exlhi1BAbNk",
        "colab": {
          "base_uri": "https://localhost:8080/",
          "height": 445
        },
        "outputId": "8d38d980-5f5a-47b9-9421-62535f2cf602"
      },
      "outputs": [
        {
          "output_type": "display_data",
          "data": {
            "text/plain": [
              "<Figure size 1000x500 with 1 Axes>"
            ],
            "image/png": "[encoded data removed]"
          },
          "metadata": {}
        }
      ],
      "source": [
        "market_prior.plot.barh(figsize=(10,5));"
      ]
    },
    {
      "cell_type": "markdown",
      "metadata": {
        "id": "v1YzJTJFAbNl"
      },
      "source": [
        "# Expectativas (Views)\n",
        "\n",
        "En el método de BL, podemos incluir intuición de \"expertos\" (o de quien quieran) para crear nuestros portafolios.\n",
        "\n",
        "Aquí los especificamos por medio de una matriz P (picking matrix) y un vector Q. Q contiene las magnitudes de cada \"view\", mientras que P hace el mapeo entre eso y el activo al que pertenece.\n",
        "\n",
        "Si proveemos una \"visión absoluta\" (i.e. un retorno estimado para cada activo), no tenemos que preocuparnos por P y Q, podemos solo pasar la \"visión\" como un diccionario."
      ]
    },
    {
      "cell_type": "code",
      "execution_count": null,
      "metadata": {
        "id": "uTP2BVZIAbNl"
      },
      "outputs": [],
      "source": [
        "# You don't have to provide views on all the assets\n",
        "viewdict = {\n",
        "    \"AMZN\": 0.10,\n",
        "    \"BAC\": 0.30,\n",
        "    \"COST\": 0.05,\n",
        "    \"DIS\": 0.05,\n",
        "    \"DPZ\": 0.20,\n",
        "    \"KO\": -0.05,  # I think Coca-Cola will go down 5%\n",
        "    \"MCD\": 0.15,\n",
        "    \"MSFT\": 0.10,\n",
        "    \"NAT\": 0.50,  # but low confidence, which will be reflected later\n",
        "    \"SBUX\": 0.10\n",
        "}\n",
        "\n",
        "bl = BlackLittermanModel(S, pi=market_prior, absolute_views=viewdict)"
      ]
    },
    {
      "cell_type": "markdown",
      "metadata": {
        "id": "fA5PRsozAbNm"
      },
      "source": [
        "Black-Litterman also allows for relative views, e.g you think asset A will outperform asset B by 10%. If you'd like to incorporate these, you will have to build P and Q yourself. An explanation for this is given in the [docs](https://pyportfolioopt.readthedocs.io/en/latest/BlackLitterman.html#views)."
      ]
    },
    {
      "cell_type": "markdown",
      "metadata": {
        "id": "QIMKGZEoAbNm"
      },
      "source": [
        "# Confianza en la Visión\n",
        "\n",
        "Aquí proveemos 2 maneras de construir la matriz de incertidumbre. La primera se conoce como el metodo de Idzorek. Este permite especificar una lista o vector de los porcentajes de confianza que tengamos."
      ]
    },
    {
      "cell_type": "code",
      "execution_count": null,
      "metadata": {
        "id": "Z0Pzoio1AbNm"
      },
      "outputs": [],
      "source": [
        "confidences = [\n",
        "    0.6,\n",
        "    0.4,\n",
        "    0.2,\n",
        "    0.5,\n",
        "    0.7, # confident in dominos\n",
        "    0.7, # confident KO will do poorly\n",
        "    0.7,\n",
        "    0.5,\n",
        "    0.1,\n",
        "    0.4\n",
        "]"
      ]
    },
    {
      "cell_type": "code",
      "execution_count": null,
      "metadata": {
        "id": "EaRmLt4IAbNm"
      },
      "outputs": [],
      "source": [
        "bl = BlackLittermanModel(S, pi=market_prior, absolute_views=viewdict, omega=\"idzorek\", view_confidences=confidences)"
      ]
    },
    {
      "cell_type": "code",
      "execution_count": null,
      "metadata": {
        "id": "fo6SKTGAAbNn",
        "colab": {
          "base_uri": "https://localhost:8080/",
          "height": 599
        },
        "outputId": "9a17f96e-1715-4e09-98d6-a5d84b1ab36a"
      },
      "outputs": [
        {
          "output_type": "display_data",
          "data": {
            "text/plain": [
              "<Figure size 700x700 with 1 Axes>"
            ],
            "image/png": "[encoded data removed]"
          },
          "metadata": {}
        }
      ],
      "source": [
        "fig, ax = plt.subplots(figsize=(7,7))\n",
        "im = ax.imshow(bl.omega)\n",
        "\n",
        "# We want to show all ticks...\n",
        "ax.set_xticks(np.arange(len(bl.tickers)))\n",
        "ax.set_yticks(np.arange(len(bl.tickers)))\n",
        "\n",
        "ax.set_xticklabels(bl.tickers)\n",
        "ax.set_yticklabels(bl.tickers)\n",
        "plt.show()"
      ]
    },
    {
      "cell_type": "code",
      "execution_count": null,
      "metadata": {
        "id": "58aBtbhuAbNn",
        "colab": {
          "base_uri": "https://localhost:8080/"
        },
        "outputId": "997c2b08-0eae-43ca-a272-d9e442b11107"
      },
      "outputs": [
        {
          "output_type": "execute_result",
          "data": {
            "text/plain": [
              "array([0.00251631, 0.00440624, 0.00907694, 0.0034695 , 0.00161379,\n",
              "       0.0006903 , 0.00088208, 0.00236487, 0.04208891, 0.00886056])"
            ]
          },
          "metadata": {},
          "execution_count": 21
        }
      ],
      "source": [
        "np.diag(bl.omega)"
      ]
    },
    {
      "cell_type": "markdown",
      "metadata": {
        "id": "lUGduOmsAbNn"
      },
      "source": [
        "Nótese que NAT, a quien le dimos una baja confianza, tambien tiene la incertidumbre mas grande.\n",
        "\n",
        "En lugar de poner directamente la confianza, podemos calcular la matriz de incertidumbre si especificamos directamente intervalos de confianza de 1 desviación estandar de tamaño, es decir, donde creemos que se encontrará el dato el 68% de las veces."
      ]
    },
    {
      "cell_type": "code",
      "execution_count": null,
      "metadata": {
        "id": "QQtnWs9xAbNn"
      },
      "outputs": [],
      "source": [
        "intervals = [\n",
        "    (0, 0.25),\n",
        "    (0.1, 0.4),\n",
        "    (-0.1, 0.15),\n",
        "    (-0.05, 0.1),\n",
        "    (0.15, 0.25),\n",
        "    (-0.1, 0),\n",
        "    (0.1, 0.2),\n",
        "    (0.08, 0.12),\n",
        "    (0.1, 0.9),\n",
        "    (0, 0.3)\n",
        "]"
      ]
    },
    {
      "cell_type": "code",
      "execution_count": null,
      "metadata": {
        "id": "avW4ld8bAbNo",
        "colab": {
          "base_uri": "https://localhost:8080/"
        },
        "outputId": "1e190168-a902-4234-f8eb-77d86eac0176"
      },
      "outputs": [
        {
          "output_type": "stream",
          "name": "stdout",
          "text": [
            "[0.015625, 0.022500000000000006, 0.015625, 0.0056250000000000015, 0.0025000000000000005, 0.0025000000000000005, 0.0025000000000000005, 0.00039999999999999986, 0.16000000000000003, 0.0225]\n"
          ]
        }
      ],
      "source": [
        "variances = []\n",
        "for lb, ub in intervals:\n",
        "    sigma = (ub - lb)/2\n",
        "    variances.append(sigma ** 2)\n",
        "\n",
        "print(variances)\n",
        "omega = np.diag(variances)"
      ]
    },
    {
      "cell_type": "markdown",
      "metadata": {
        "id": "VlVq9sICAbNo"
      },
      "source": [
        "# Estimaciones a Posteriori\n",
        "\n",
        "Dadas las entradas, podemos calcular los retornos a posteriori."
      ]
    },
    {
      "cell_type": "markdown",
      "source": [
        "![image.png](data:image/png;base64,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)"
      ],
      "metadata": {
        "id": "PKLBocnKURqH"
      }
    },
    {
      "cell_type": "code",
      "execution_count": null,
      "metadata": {
        "id": "478dHIDHAbNo"
      },
      "outputs": [],
      "source": [
        "# We are using the shortcut to automatically compute market-implied prior\n",
        "bl = BlackLittermanModel(S, pi=\"market\", market_caps=mcaps, risk_aversion=delta,\n",
        "                        absolute_views=viewdict, omega=omega)"
      ]
    },
    {
      "cell_type": "code",
      "execution_count": null,
      "metadata": {
        "id": "A9VSO7xAAbNo",
        "colab": {
          "base_uri": "https://localhost:8080/",
          "height": 429
        },
        "outputId": "73a422ce-ecae-4160-959f-fe468bed27ff"
      },
      "outputs": [
        {
          "output_type": "execute_result",
          "data": {
            "text/plain": [
              "Ticker\n",
              "AMZN    0.352863\n",
              "BAC     0.119629\n",
              "COST    0.122513\n",
              "DIS     0.081926\n",
              "DPZ     0.150111\n",
              "KO      0.011905\n",
              "MCD     0.094209\n",
              "MSFT    0.157406\n",
              "NAT     0.034794\n",
              "SBUX    0.111296\n",
              "dtype: float64"
            ],
            "text/html": [
              "<div>\n",
              "<style scoped>\n",
              "    .dataframe tbody tr th:only-of-type {\n",
              "        vertical-align: middle;\n",
              "    }\n",
              "\n",
              "    .dataframe tbody tr th {\n",
              "        vertical-align: top;\n",
              "    }\n",
              "\n",
              "    .dataframe thead th {\n",
              "        text-align: right;\n",
              "    }\n",
              "</style>\n",
              "<table border=\"1\" class=\"dataframe\">\n",
              "  <thead>\n",
              "    <tr style=\"text-align: right;\">\n",
              "      <th></th>\n",
              "      <th>0</th>\n",
              "    </tr>\n",
              "    <tr>\n",
              "      <th>Ticker</th>\n",
              "      <th></th>\n",
              "    </tr>\n",
              "  </thead>\n",
              "  <tbody>\n",
              "    <tr>\n",
              "      <th>AMZN</th>\n",
              "      <td>0.352863</td>\n",
              "    </tr>\n",
              "    <tr>\n",
              "      <th>BAC</th>\n",
              "      <td>0.119629</td>\n",
              "    </tr>\n",
              "    <tr>\n",
              "      <th>COST</th>\n",
              "      <td>0.122513</td>\n",
              "    </tr>\n",
              "    <tr>\n",
              "      <th>DIS</th>\n",
              "      <td>0.081926</td>\n",
              "    </tr>\n",
              "    <tr>\n",
              "      <th>DPZ</th>\n",
              "      <td>0.150111</td>\n",
              "    </tr>\n",
              "    <tr>\n",
              "      <th>KO</th>\n",
              "      <td>0.011905</td>\n",
              "    </tr>\n",
              "    <tr>\n",
              "      <th>MCD</th>\n",
              "      <td>0.094209</td>\n",
              "    </tr>\n",
              "    <tr>\n",
              "      <th>MSFT</th>\n",
              "      <td>0.157406</td>\n",
              "    </tr>\n",
              "    <tr>\n",
              "      <th>NAT</th>\n",
              "      <td>0.034794</td>\n",
              "    </tr>\n",
              "    <tr>\n",
              "      <th>SBUX</th>\n",
              "      <td>0.111296</td>\n",
              "    </tr>\n",
              "  </tbody>\n",
              "</table>\n",
              "</div><br><label><b>dtype:</b> float64</label>"
            ]
          },
          "metadata": {},
          "execution_count": 25
        }
      ],
      "source": [
        "# Posterior estimate of returns\n",
        "ret_bl = bl.bl_returns()\n",
        "ret_bl"
      ]
    },
    {
      "cell_type": "markdown",
      "metadata": {
        "id": "eRKmlKABAbNo"
      },
      "source": [
        "We can visualise how this compares to the prior and our views:"
      ]
    },
    {
      "cell_type": "code",
      "execution_count": null,
      "metadata": {
        "id": "KHfvi6KvAbNp",
        "colab": {
          "base_uri": "https://localhost:8080/",
          "height": 363
        },
        "outputId": "695362b8-99d7-49b9-a845-7d7a0f0b8f02"
      },
      "outputs": [
        {
          "output_type": "execute_result",
          "data": {
            "text/plain": [
              "         Prior  Posterior  Views\n",
              "AMZN  0.597342   0.352863   0.10\n",
              "BAC   0.138601   0.119629   0.30\n",
              "COST  0.229571   0.122513   0.05\n",
              "DIS   0.153504   0.081926   0.05\n",
              "DPZ   0.141153   0.150111   0.20\n",
              "KO    0.073724   0.011905  -0.05\n",
              "MCD   0.096306   0.094209   0.15\n",
              "MSFT  0.531775   0.157406   0.10\n",
              "NAT   0.063909   0.034794   0.50\n",
              "SBUX  0.175435   0.111296   0.10"
            ],
            "text/html": [
              "\n",
              "  <div id=\"df-17281545-f977-4dd3-a87d-8135211e1524\" class=\"colab-df-container\">\n",
              "    <div>\n",
              "<style scoped>\n",
              "    .dataframe tbody tr th:only-of-type {\n",
              "        vertical-align: middle;\n",
              "    }\n",
              "\n",
              "    .dataframe tbody tr th {\n",
              "        vertical-align: top;\n",
              "    }\n",
              "\n",
              "    .dataframe thead th {\n",
              "        text-align: right;\n",
              "    }\n",
              "</style>\n",
              "<table border=\"1\" class=\"dataframe\">\n",
              "  <thead>\n",
              "    <tr style=\"text-align: right;\">\n",
              "      <th></th>\n",
              "      <th>Prior</th>\n",
              "      <th>Posterior</th>\n",
              "      <th>Views</th>\n",
              "    </tr>\n",
              "  </thead>\n",
              "  <tbody>\n",
              "    <tr>\n",
              "      <th>AMZN</th>\n",
              "      <td>0.597342</td>\n",
              "      <td>0.352863</td>\n",
              "      <td>0.10</td>\n",
              "    </tr>\n",
              "    <tr>\n",
              "      <th>BAC</th>\n",
              "      <td>0.138601</td>\n",
              "      <td>0.119629</td>\n",
              "      <td>0.30</td>\n",
              "    </tr>\n",
              "    <tr>\n",
              "      <th>COST</th>\n",
              "      <td>0.229571</td>\n",
              "      <td>0.122513</td>\n",
              "      <td>0.05</td>\n",
              "    </tr>\n",
              "    <tr>\n",
              "      <th>DIS</th>\n",
              "      <td>0.153504</td>\n",
              "      <td>0.081926</td>\n",
              "      <td>0.05</td>\n",
              "    </tr>\n",
              "    <tr>\n",
              "      <th>DPZ</th>\n",
              "      <td>0.141153</td>\n",
              "      <td>0.150111</td>\n",
              "      <td>0.20</td>\n",
              "    </tr>\n",
              "    <tr>\n",
              "      <th>KO</th>\n",
              "      <td>0.073724</td>\n",
              "      <td>0.011905</td>\n",
              "      <td>-0.05</td>\n",
              "    </tr>\n",
              "    <tr>\n",
              "      <th>MCD</th>\n",
              "      <td>0.096306</td>\n",
              "      <td>0.094209</td>\n",
              "      <td>0.15</td>\n",
              "    </tr>\n",
              "    <tr>\n",
              "      <th>MSFT</th>\n",
              "      <td>0.531775</td>\n",
              "      <td>0.157406</td>\n",
              "      <td>0.10</td>\n",
              "    </tr>\n",
              "    <tr>\n",
              "      <th>NAT</th>\n",
              "      <td>0.063909</td>\n",
              "      <td>0.034794</td>\n",
              "      <td>0.50</td>\n",
              "    </tr>\n",
              "    <tr>\n",
              "      <th>SBUX</th>\n",
              "      <td>0.175435</td>\n",
              "      <td>0.111296</td>\n",
              "      <td>0.10</td>\n",
              "    </tr>\n",
              "  </tbody>\n",
              "</table>\n",
              "</div>\n",
              "    <div class=\"colab-df-buttons\">\n",
              "\n",
              "  <div class=\"colab-df-container\">\n",
              "    <button class=\"colab-df-convert\" onclick=\"convertToInteractive('df-17281545-f977-4dd3-a87d-8135211e1524')\"\n",
              "            title=\"Convert this dataframe to an interactive table.\"\n",
              "            style=\"display:none;\">\n",
              "\n",
              "  <svg xmlns=\"http://www.w3.org/2000/svg\" height=\"24px\" viewBox=\"0 -960 960 960\">\n",
              "    <path d=\"M120-120v-720h720v720H120Zm60-500h600v-160H180v160Zm220 220h160v-160H400v160Zm0 220h160v-160H400v160ZM180-400h160v-160H180v160Zm440 0h160v-160H620v160ZM180-180h160v-160H180v160Zm440 0h160v-160H620v160Z\"/>\n",
              "  </svg>\n",
              "    </button>\n",
              "\n",
              "  <style>\n",
              "    .colab-df-container {\n",
              "      display:flex;\n",
              "      gap: 12px;\n",
              "    }\n",
              "\n",
              "    .colab-df-convert {\n",
              "      background-color: #E8F0FE;\n",
              "      border: none;\n",
              "      border-radius: 50%;\n",
              "      cursor: pointer;\n",
              "      display: none;\n",
              "      fill: #1967D2;\n",
              "      height: 32px;\n",
              "      padding: 0 0 0 0;\n",
              "      width: 32px;\n",
              "    }\n",
              "\n",
              "    .colab-df-convert:hover {\n",
              "      background-color: #E2EBFA;\n",
              "      box-shadow: 0px 1px 2px rgba(60, 64, 67, 0.3), 0px 1px 3px 1px rgba(60, 64, 67, 0.15);\n",
              "      fill: #174EA6;\n",
              "    }\n",
              "\n",
              "    .colab-df-buttons div {\n",
              "      margin-bottom: 4px;\n",
              "    }\n",
              "\n",
              "    [theme=dark] .colab-df-convert {\n",
              "      background-color: #3B4455;\n",
              "      fill: #D2E3FC;\n",
              "    }\n",
              "\n",
              "    [theme=dark] .colab-df-convert:hover {\n",
              "      background-color: #434B5C;\n",
              "      box-shadow: 0px 1px 3px 1px rgba(0, 0, 0, 0.15);\n",
              "      filter: drop-shadow(0px 1px 2px rgba(0, 0, 0, 0.3));\n",
              "      fill: #FFFFFF;\n",
              "    }\n",
              "  </style>\n",
              "\n",
              "    <script>\n",
              "      const buttonEl =\n",
              "        document.querySelector('#df-17281545-f977-4dd3-a87d-8135211e1524 button.colab-df-convert');\n",
              "      buttonEl.style.display =\n",
              "        google.colab.kernel.accessAllowed ? 'block' : 'none';\n",
              "\n",
              "      async function convertToInteractive(key) {\n",
              "        const element = document.querySelector('#df-17281545-f977-4dd3-a87d-8135211e1524');\n",
              "        const dataTable =\n",
              "          await google.colab.kernel.invokeFunction('convertToInteractive',\n",
              "                                                    [key], {});\n",
              "        if (!dataTable) return;\n",
              "\n",
              "        const docLinkHtml = 'Like what you see? Visit the ' +\n",
              "          '<a target=\"_blank\" href=https://colab.research.google.com/notebooks/data_table.ipynb>data table notebook</a>'\n",
              "          + ' to learn more about interactive tables.';\n",
              "        element.innerHTML = '';\n",
              "        dataTable['output_type'] = 'display_data';\n",
              "        await google.colab.output.renderOutput(dataTable, element);\n",
              "        const docLink = document.createElement('div');\n",
              "        docLink.innerHTML = docLinkHtml;\n",
              "        element.appendChild(docLink);\n",
              "      }\n",
              "    </script>\n",
              "  </div>\n",
              "\n",
              "\n",
              "<div id=\"df-3a35dbd5-5f95-4dc6-9caf-5ae1edd912c7\">\n",
              "  <button class=\"colab-df-quickchart\" onclick=\"quickchart('df-3a35dbd5-5f95-4dc6-9caf-5ae1edd912c7')\"\n",
              "            title=\"Suggest charts\"\n",
              "            style=\"display:none;\">\n",
              "\n",
              "<svg xmlns=\"http://www.w3.org/2000/svg\" height=\"24px\"viewBox=\"0 0 24 24\"\n",
              "     width=\"24px\">\n",
              "    <g>\n",
              "        <path d=\"M19 3H5c-1.1 0-2 .9-2 2v14c0 1.1.9 2 2 2h14c1.1 0 2-.9 2-2V5c0-1.1-.9-2-2-2zM9 17H7v-7h2v7zm4 0h-2V7h2v10zm4 0h-2v-4h2v4z\"/>\n",
              "    </g>\n",
              "</svg>\n",
              "  </button>\n",
              "\n",
              "<style>\n",
              "  .colab-df-quickchart {\n",
              "      --bg-color: #E8F0FE;\n",
              "      --fill-color: #1967D2;\n",
              "      --hover-bg-color: #E2EBFA;\n",
              "      --hover-fill-color: #174EA6;\n",
              "      --disabled-fill-color: #AAA;\n",
              "      --disabled-bg-color: #DDD;\n",
              "  }\n",
              "\n",
              "  [theme=dark] .colab-df-quickchart {\n",
              "      --bg-color: #3B4455;\n",
              "      --fill-color: #D2E3FC;\n",
              "      --hover-bg-color: #434B5C;\n",
              "      --hover-fill-color: #FFFFFF;\n",
              "      --disabled-bg-color: #3B4455;\n",
              "      --disabled-fill-color: #666;\n",
              "  }\n",
              "\n",
              "  .colab-df-quickchart {\n",
              "    background-color: var(--bg-color);\n",
              "    border: none;\n",
              "    border-radius: 50%;\n",
              "    cursor: pointer;\n",
              "    display: none;\n",
              "    fill: var(--fill-color);\n",
              "    height: 32px;\n",
              "    padding: 0;\n",
              "    width: 32px;\n",
              "  }\n",
              "\n",
              "  .colab-df-quickchart:hover {\n",
              "    background-color: var(--hover-bg-color);\n",
              "    box-shadow: 0 1px 2px rgba(60, 64, 67, 0.3), 0 1px 3px 1px rgba(60, 64, 67, 0.15);\n",
              "    fill: var(--button-hover-fill-color);\n",
              "  }\n",
              "\n",
              "  .colab-df-quickchart-complete:disabled,\n",
              "  .colab-df-quickchart-complete:disabled:hover {\n",
              "    background-color: var(--disabled-bg-color);\n",
              "    fill: var(--disabled-fill-color);\n",
              "    box-shadow: none;\n",
              "  }\n",
              "\n",
              "  .colab-df-spinner {\n",
              "    border: 2px solid var(--fill-color);\n",
              "    border-color: transparent;\n",
              "    border-bottom-color: var(--fill-color);\n",
              "    animation:\n",
              "      spin 1s steps(1) infinite;\n",
              "  }\n",
              "\n",
              "  @keyframes spin {\n",
              "    0% {\n",
              "      border-color: transparent;\n",
              "      border-bottom-color: var(--fill-color);\n",
              "      border-left-color: var(--fill-color);\n",
              "    }\n",
              "    20% {\n",
              "      border-color: transparent;\n",
              "      border-left-color: var(--fill-color);\n",
              "      border-top-color: var(--fill-color);\n",
              "    }\n",
              "    30% {\n",
              "      border-color: transparent;\n",
              "      border-left-color: var(--fill-color);\n",
              "      border-top-color: var(--fill-color);\n",
              "      border-right-color: var(--fill-color);\n",
              "    }\n",
              "    40% {\n",
              "      border-color: transparent;\n",
              "      border-right-color: var(--fill-color);\n",
              "      border-top-color: var(--fill-color);\n",
              "    }\n",
              "    60% {\n",
              "      border-color: transparent;\n",
              "      border-right-color: var(--fill-color);\n",
              "    }\n",
              "    80% {\n",
              "      border-color: transparent;\n",
              "      border-right-color: var(--fill-color);\n",
              "      border-bottom-color: var(--fill-color);\n",
              "    }\n",
              "    90% {\n",
              "      border-color: transparent;\n",
              "      border-bottom-color: var(--fill-color);\n",
              "    }\n",
              "  }\n",
              "</style>\n",
              "\n",
              "  <script>\n",
              "    async function quickchart(key) {\n",
              "      const quickchartButtonEl =\n",
              "        document.querySelector('#' + key + ' button');\n",
              "      quickchartButtonEl.disabled = true;  // To prevent multiple clicks.\n",
              "      quickchartButtonEl.classList.add('colab-df-spinner');\n",
              "      try {\n",
              "        const charts = await google.colab.kernel.invokeFunction(\n",
              "            'suggestCharts', [key], {});\n",
              "      } catch (error) {\n",
              "        console.error('Error during call to suggestCharts:', error);\n",
              "      }\n",
              "      quickchartButtonEl.classList.remove('colab-df-spinner');\n",
              "      quickchartButtonEl.classList.add('colab-df-quickchart-complete');\n",
              "    }\n",
              "    (() => {\n",
              "      let quickchartButtonEl =\n",
              "        document.querySelector('#df-3a35dbd5-5f95-4dc6-9caf-5ae1edd912c7 button');\n",
              "      quickchartButtonEl.style.display =\n",
              "        google.colab.kernel.accessAllowed ? 'block' : 'none';\n",
              "    })();\n",
              "  </script>\n",
              "</div>\n",
              "\n",
              "  <div id=\"id_93e224ca-10cb-4448-9dba-43d52fc27418\">\n",
              "    <style>\n",
              "      .colab-df-generate {\n",
              "        background-color: #E8F0FE;\n",
              "        border: none;\n",
              "        border-radius: 50%;\n",
              "        cursor: pointer;\n",
              "        display: none;\n",
              "        fill: #1967D2;\n",
              "        height: 32px;\n",
              "        padding: 0 0 0 0;\n",
              "        width: 32px;\n",
              "      }\n",
              "\n",
              "      .colab-df-generate:hover {\n",
              "        background-color: #E2EBFA;\n",
              "        box-shadow: 0px 1px 2px rgba(60, 64, 67, 0.3), 0px 1px 3px 1px rgba(60, 64, 67, 0.15);\n",
              "        fill: #174EA6;\n",
              "      }\n",
              "\n",
              "      [theme=dark] .colab-df-generate {\n",
              "        background-color: #3B4455;\n",
              "        fill: #D2E3FC;\n",
              "      }\n",
              "\n",
              "      [theme=dark] .colab-df-generate:hover {\n",
              "        background-color: #434B5C;\n",
              "        box-shadow: 0px 1px 3px 1px rgba(0, 0, 0, 0.15);\n",
              "        filter: drop-shadow(0px 1px 2px rgba(0, 0, 0, 0.3));\n",
              "        fill: #FFFFFF;\n",
              "      }\n",
              "    </style>\n",
              "    <button class=\"colab-df-generate\" onclick=\"generateWithVariable('rets_df')\"\n",
              "            title=\"Generate code using this dataframe.\"\n",
              "            style=\"display:none;\">\n",
              "\n",
              "  <svg xmlns=\"http://www.w3.org/2000/svg\" height=\"24px\"viewBox=\"0 0 24 24\"\n",
              "       width=\"24px\">\n",
              "    <path d=\"M7,19H8.4L18.45,9,17,7.55,7,17.6ZM5,21V16.75L18.45,3.32a2,2,0,0,1,2.83,0l1.4,1.43a1.91,1.91,0,0,1,.58,1.4,1.91,1.91,0,0,1-.58,1.4L9.25,21ZM18.45,9,17,7.55Zm-12,3A5.31,5.31,0,0,0,4.9,8.1,5.31,5.31,0,0,0,1,6.5,5.31,5.31,0,0,0,4.9,4.9,5.31,5.31,0,0,0,6.5,1,5.31,5.31,0,0,0,8.1,4.9,5.31,5.31,0,0,0,12,6.5,5.46,5.46,0,0,0,6.5,12Z\"/>\n",
              "  </svg>\n",
              "    </button>\n",
              "    <script>\n",
              "      (() => {\n",
              "      const buttonEl =\n",
              "        document.querySelector('#id_93e224ca-10cb-4448-9dba-43d52fc27418 button.colab-df-generate');\n",
              "      buttonEl.style.display =\n",
              "        google.colab.kernel.accessAllowed ? 'block' : 'none';\n",
              "\n",
              "      buttonEl.onclick = () => {\n",
              "        google.colab.notebook.generateWithVariable('rets_df');\n",
              "      }\n",
              "      })();\n",
              "    </script>\n",
              "  </div>\n",
              "\n",
              "    </div>\n",
              "  </div>\n"
            ],
            "application/vnd.google.colaboratory.intrinsic+json": {
              "type": "dataframe",
              "variable_name": "rets_df",
              "summary": "{\n  \"name\": \"rets_df\",\n  \"rows\": 10,\n  \"fields\": [\n    {\n      \"column\": \"Prior\",\n      \"properties\": {\n        \"dtype\": \"number\",\n        \"std\": 0.18856001624705376,\n        \"min\": 0.06390929223381374,\n        \"max\": 0.5973421325695534,\n        \"num_unique_values\": 10,\n        \"samples\": [\n          0.06390929223381374,\n          0.1386008295085163,\n          0.07372423055537733\n        ],\n        \"semantic_type\": \"\",\n        \"description\": \"\"\n      }\n    },\n    {\n      \"column\": \"Posterior\",\n      \"properties\": {\n        \"dtype\": \"number\",\n        \"std\": 0.09281911653578268,\n        \"min\": 0.011905451602523875,\n        \"max\": 0.35286349169627407,\n        \"num_unique_values\": 10,\n        \"samples\": [\n          0.034793743463594144,\n          0.1196287315977628,\n          0.011905451602523875\n        ],\n        \"semantic_type\": \"\",\n        \"description\": \"\"\n      }\n    },\n    {\n      \"column\": \"Views\",\n      \"properties\": {\n        \"dtype\": \"number\",\n        \"std\": 0.15456030825826172,\n        \"min\": -0.05,\n        \"max\": 0.5,\n        \"num_unique_values\": 7,\n        \"samples\": [\n          0.1,\n          0.3,\n          0.15\n        ],\n        \"semantic_type\": \"\",\n        \"description\": \"\"\n      }\n    }\n  ]\n}"
            }
          },
          "metadata": {},
          "execution_count": 26
        }
      ],
      "source": [
        "rets_df = pd.DataFrame([market_prior, ret_bl, pd.Series(viewdict)],\n",
        "             index=[\"Prior\", \"Posterior\", \"Views\"]).T\n",
        "rets_df"
      ]
    },
    {
      "cell_type": "code",
      "execution_count": null,
      "metadata": {
        "id": "n55wKWFuAbNp",
        "colab": {
          "base_uri": "https://localhost:8080/",
          "height": 704
        },
        "outputId": "d2c983ab-eedb-4c20-c688-e878e36b1dfe"
      },
      "outputs": [
        {
          "output_type": "display_data",
          "data": {
            "text/plain": [
              "<Figure size 1200x800 with 1 Axes>"
            ],
            "image/png": "[encoded data removed]"
          },
          "metadata": {}
        }
      ],
      "source": [
        "rets_df.plot.bar(figsize=(12,8));"
      ]
    },
    {
      "cell_type": "markdown",
      "metadata": {
        "id": "fuizxt0NAbNp"
      },
      "source": [
        "El método de BL termina siendo un promedio ponderado Bayesiano entre las estimaciones a priori y las estimaciones a posteriori, donde los pesos se determinan por la confianza que se tenga.\n",
        "\n",
        "Un proceso similar puede ser usado para producir el estimado a posteriori de las covarianzas:"
      ]
    },
    {
      "cell_type": "code",
      "execution_count": null,
      "metadata": {
        "id": "i6S1l2-aAbNp",
        "colab": {
          "base_uri": "https://localhost:8080/",
          "height": 487
        },
        "outputId": "a695f464-d1e0-4801-fc13-4421b8677048"
      },
      "outputs": [
        {
          "output_type": "display_data",
          "data": {
            "text/plain": [
              "<Figure size 640x480 with 2 Axes>"
            ],
            "image/png": "[encoded data removed]"
          },
          "metadata": {}
        }
      ],
      "source": [
        "S_bl = bl.bl_cov()\n",
        "plotting.plot_covariance(S_bl);"
      ]
    },
    {
      "cell_type": "markdown",
      "metadata": {
        "id": "YC9fNRAbAbNp"
      },
      "source": [
        "## Asignación de pesos en el portafolio\n",
        "\n",
        "Listo, tenemos mejoresw inputs que solo los valores históricos, podemos proceder con un método de optimización de media-varianza."
      ]
    },
    {
      "cell_type": "code",
      "execution_count": null,
      "metadata": {
        "id": "hDS0vIUCAbNp"
      },
      "outputs": [],
      "source": [
        "from pypfopt import EfficientFrontier, objective_functions"
      ]
    },
    {
      "cell_type": "code",
      "source": [
        "ef = EfficientFrontier(ret_bl, S_bl)\n",
        "ef.add_objective(objective_functions.L2_reg)"
      ],
      "metadata": {
        "id": "-NQT3dFZwgFN"
      },
      "execution_count": null,
      "outputs": []
    },
    {
      "cell_type": "markdown",
      "source": [
        "Como visto en Markowitz, podemos determinar un nivel de retorno mínimo"
      ],
      "metadata": {
        "id": "7J2_w3awxbM2"
      }
    },
    {
      "cell_type": "code",
      "source": [
        "np.set_printoptions(suppress=True)\n"
      ],
      "metadata": {
        "id": "VMDvYnMsqM-b"
      },
      "execution_count": null,
      "outputs": []
    },
    {
      "cell_type": "code",
      "source": [
        "ef.efficient_return(0.25)"
      ],
      "metadata": {
        "id": "4yU4V8pQxKrN",
        "colab": {
          "base_uri": "https://localhost:8080/"
        },
        "outputId": "5b70a46c-d1c5-421b-c756-566bc60e1e31"
      },
      "execution_count": null,
      "outputs": [
        {
          "output_type": "execute_result",
          "data": {
            "text/plain": [
              "OrderedDict([('AMZN', 0.5233040863835787),\n",
              "             ('BAC', 0.07011835806559),\n",
              "             ('COST', 0.0715746912228044),\n",
              "             ('DIS', 0.0),\n",
              "             ('DPZ', 0.1265161105912079),\n",
              "             ('KO', 0.0),\n",
              "             ('MCD', 0.0220994308998686),\n",
              "             ('MSFT', 0.1381603999523422),\n",
              "             ('NAT', 0.0),\n",
              "             ('SBUX', 0.0482269228846083)])"
            ]
          },
          "metadata": {},
          "execution_count": 38
        }
      ]
    },
    {
      "cell_type": "markdown",
      "source": [
        "O buscar el punto que maximice la razón de Sharpe"
      ],
      "metadata": {
        "id": "AvSRl8lTU1Ov"
      }
    },
    {
      "cell_type": "code",
      "execution_count": null,
      "metadata": {
        "id": "qylII3-oAbNp",
        "colab": {
          "base_uri": "https://localhost:8080/"
        },
        "outputId": "f3c8bc7f-6395-4504-fbd5-e354999cb3b9"
      },
      "outputs": [
        {
          "output_type": "stream",
          "name": "stderr",
          "text": [
            "/usr/local/lib/python3.10/dist-packages/pypfopt/efficient_frontier/efficient_frontier.py:259: UserWarning: max_sharpe transforms the optimization problem so additional objectives may not work as expected.\n",
            "  warnings.warn(\n"
          ]
        },
        {
          "output_type": "execute_result",
          "data": {
            "text/plain": [
              "OrderedDict([('AMZN', 0.32742),\n",
              "             ('BAC', 0.0962),\n",
              "             ('COST', 0.09776),\n",
              "             ('DIS', 0.05596),\n",
              "             ('DPZ', 0.1241),\n",
              "             ('KO', 0.0),\n",
              "             ('MCD', 0.07347),\n",
              "             ('MSFT', 0.13157),\n",
              "             ('NAT', 0.01259),\n",
              "             ('SBUX', 0.08094)])"
            ]
          },
          "metadata": {},
          "execution_count": 39
        }
      ],
      "source": [
        "ef = EfficientFrontier(ret_bl, S_bl)\n",
        "ef.add_objective(objective_functions.L2_reg)\n",
        "ef.max_sharpe()\n",
        "weights = ef.clean_weights()\n",
        "weights"
      ]
    },
    {
      "cell_type": "code",
      "execution_count": null,
      "metadata": {
        "id": "9_pWobQoAbNq",
        "colab": {
          "base_uri": "https://localhost:8080/",
          "height": 807
        },
        "outputId": "0f1fc988-70b2-4c81-ddd6-91932ce31269"
      },
      "outputs": [
        {
          "output_type": "display_data",
          "data": {
            "text/plain": [
              "<Figure size 1000x1000 with 1 Axes>"
            ],
            "image/png": "[encoded data removed]"
          },
          "metadata": {}
        }
      ],
      "source": [
        "pd.Series(weights).plot.pie(figsize=(10,10));"
      ]
    },
    {
      "cell_type": "code",
      "execution_count": null,
      "metadata": {
        "id": "8YHugSK8AbNq",
        "colab": {
          "base_uri": "https://localhost:8080/"
        },
        "outputId": "1649a2bd-2d12-4f21-80e6-6a553e40dc22"
      },
      "outputs": [
        {
          "output_type": "stream",
          "name": "stdout",
          "text": [
            "Leftover: $13.66\n"
          ]
        },
        {
          "output_type": "stream",
          "name": "stderr",
          "text": [
            "/usr/local/lib/python3.10/dist-packages/cvxpy/problems/problem.py:1407: UserWarning: Solution may be inaccurate. Try another solver, adjusting the solver settings, or solve with verbose=True for more information.\n",
            "  warnings.warn(\n"
          ]
        },
        {
          "output_type": "execute_result",
          "data": {
            "text/plain": [
              "{'AMZN': 37,\n",
              " 'BAC': 51,\n",
              " 'COST': 2,\n",
              " 'DIS': 13,\n",
              " 'DPZ': 6,\n",
              " 'MCD': 5,\n",
              " 'MSFT': 6,\n",
              " 'NAT': 77,\n",
              " 'SBUX': 18}"
            ]
          },
          "metadata": {},
          "execution_count": 41
        }
      ],
      "source": [
        "from pypfopt import DiscreteAllocation\n",
        "\n",
        "da = DiscreteAllocation(weights, prices.iloc[-1], total_portfolio_value=20000)\n",
        "alloc, leftover = da.lp_portfolio()\n",
        "print(f\"Leftover: ${leftover:.2f}\")\n",
        "alloc"
      ]
    },
    {
      "cell_type": "markdown",
      "source": [
        "# Ejercicio: Agregue una matriz P y un vector de expectativas Q, donde agregaremos las expectativas relativas (no solo las absolutas) de pronosticos que crean que pueden pasar."
      ],
      "metadata": {
        "id": "fN-LrUY7U6M4"
      }
    },
    {
      "cell_type": "code",
      "source": [
        "# Espacio para ejercicios"
      ],
      "metadata": {
        "id": "qs7t-rwgrXkB"
      },
      "execution_count": null,
      "outputs": []
    },
    {
      "cell_type": "markdown",
      "source": [
        "# Referencias:\n",
        "\n",
        "- [Docs](https://pyportfolioopt.readthedocs.io/en/latest/BlackLitterman.html)\n",
        "\n",
        "- [Github](https://github.com/robertmartin8/PyPortfolioOpt/blob/master/cookbook/4-Black-Litterman-Allocation.ipynb)\n"
      ],
      "metadata": {
        "id": "wRkRqPZaxod3"
      }
    }
  ],
  "metadata": {
    "kernelspec": {
      "display_name": "Python 3",
      "name": "python3"
    },
    "language_info": {
      "name": "python"
    },
    "colab": {
      "provenance": []
    }
  },
  "nbformat": 4,
  "nbformat_minor": 0
}