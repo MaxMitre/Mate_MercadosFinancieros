{
  "nbformat": 4,
  "nbformat_minor": 0,
  "metadata": {
    "colab": {
      "provenance": []
    },
    "kernelspec": {
      "name": "python3",
      "display_name": "Python 3"
    },
    "language_info": {
      "name": "python"
    }
  },
  "cells": [
    {
      "cell_type": "markdown",
      "source": [
        "[![Open In Colab](https://colab.research.google.com/assets/colab-badge.svg)](https://colab.research.google.com/github/MaxMitre/Mate_MercadosFinancieros/blob/main/Semana2_Forwards.ipynb)"
      ],
      "metadata": {
        "id": "d5ArvErrq-Sx"
      }
    },
    {
      "cell_type": "markdown",
      "source": [
        "# Forwards"
      ],
      "metadata": {
        "id": "gxRctmmR0PAE"
      }
    },
    {
      "cell_type": "markdown",
      "source": [
        "Hablemos de 2 conceptos fundamentales para esta clase.\n",
        "\n",
        "- Ganancia/Pérdida del Forward\n",
        "- Valuación del Forward\n"
      ],
      "metadata": {
        "id": "3OxF76dK0Q4y"
      }
    },
    {
      "cell_type": "markdown",
      "source": [
        "Primero, ¿cómo podríamos decidir cual sería el valor justo en un contrato tipo Forward?"
      ],
      "metadata": {
        "id": "TL75dSUq0dX8"
      }
    },
    {
      "cell_type": "code",
      "source": [
        "# !pip install yfinance"
      ],
      "metadata": {
        "id": "5e4v8OLR3AoP"
      },
      "execution_count": null,
      "outputs": []
    },
    {
      "cell_type": "code",
      "source": [
        "import numpy as np\n",
        "import pandas as pd\n",
        "\n",
        "import yfinance as yf"
      ],
      "metadata": {
        "id": "KCrq0ifo2uEu"
      },
      "execution_count": null,
      "outputs": []
    },
    {
      "cell_type": "markdown",
      "source": [
        "Recordemos el término de valor presente o dar valor a futuro (son muy parecidos)"
      ],
      "metadata": {
        "id": "g-NkqDpp2wIM"
      }
    },
    {
      "cell_type": "code",
      "source": [
        "data = yf.download(  # or pdr.get_data_yahoo(...\n",
        "        # tickers list or string as well\n",
        "        tickers = \"GOOG NVDA\",\n",
        "\n",
        "        # use \"period\" instead of start/end\n",
        "        # valid periods: 1d,5d,1mo,3mo,6mo,1y,2y,5y,10y,ytd,max\n",
        "        # (optional, default is '1mo')\n",
        "        period = \"1y\",\n",
        "\n",
        "        # fetch data by interval (including intraday if period < 60 days)\n",
        "        # valid intervals: 1m,2m,5m,15m,30m,60m,90m,1h,1d,5d,1wk,1mo,3mo\n",
        "        # (optional, default is '1d')\n",
        "        interval = \"1d\",\n",
        "\n",
        "        # group by ticker (to access via data['SPY'])\n",
        "        # (optional, default is 'column')\n",
        "        # group_by = 'ticker',\n",
        "    ).loc[:, 'Adj Close']\n",
        "data"
      ],
      "metadata": {
        "id": "r_VSSRL72vmM",
        "colab": {
          "base_uri": "https://localhost:8080/",
          "height": 472
        },
        "outputId": "3c33bd65-4408-4d29-dd61-b406cba66e55"
      },
      "execution_count": null,
      "outputs": [
        {
          "output_type": "stream",
          "name": "stderr",
          "text": [
            "[*********************100%%**********************]  2 of 2 completed\n"
          ]
        },
        {
          "output_type": "execute_result",
          "data": {
            "text/plain": [
              "Ticker            GOOG        NVDA\n",
              "Date                              \n",
              "2023-07-20  119.394135   45.506374\n",
              "2023-07-21  120.173248   44.295734\n",
              "2023-07-24  121.741463   44.598648\n",
              "2023-07-25  122.650429   45.665329\n",
              "2023-07-26  129.512619   45.438400\n",
              "...                ...         ...\n",
              "2024-07-15  188.190002  128.440002\n",
              "2024-07-16  185.500000  126.360001\n",
              "2024-07-17  182.619995  117.989998\n",
              "2024-07-18  179.220001  121.089996\n",
              "2024-07-19  179.389999  117.930000\n",
              "\n",
              "[252 rows x 2 columns]"
            ],
            "text/html": [
              "\n",
              "  <div id=\"df-3802b861-347e-49fe-a15f-c6e8bba1f5b0\" class=\"colab-df-container\">\n",
              "    <div>\n",
              "<style scoped>\n",
              "    .dataframe tbody tr th:only-of-type {\n",
              "        vertical-align: middle;\n",
              "    }\n",
              "\n",
              "    .dataframe tbody tr th {\n",
              "        vertical-align: top;\n",
              "    }\n",
              "\n",
              "    .dataframe thead th {\n",
              "        text-align: right;\n",
              "    }\n",
              "</style>\n",
              "<table border=\"1\" class=\"dataframe\">\n",
              "  <thead>\n",
              "    <tr style=\"text-align: right;\">\n",
              "      <th>Ticker</th>\n",
              "      <th>GOOG</th>\n",
              "      <th>NVDA</th>\n",
              "    </tr>\n",
              "    <tr>\n",
              "      <th>Date</th>\n",
              "      <th></th>\n",
              "      <th></th>\n",
              "    </tr>\n",
              "  </thead>\n",
              "  <tbody>\n",
              "    <tr>\n",
              "      <th>2023-07-20</th>\n",
              "      <td>119.394135</td>\n",
              "      <td>45.506374</td>\n",
              "    </tr>\n",
              "    <tr>\n",
              "      <th>2023-07-21</th>\n",
              "      <td>120.173248</td>\n",
              "      <td>44.295734</td>\n",
              "    </tr>\n",
              "    <tr>\n",
              "      <th>2023-07-24</th>\n",
              "      <td>121.741463</td>\n",
              "      <td>44.598648</td>\n",
              "    </tr>\n",
              "    <tr>\n",
              "      <th>2023-07-25</th>\n",
              "      <td>122.650429</td>\n",
              "      <td>45.665329</td>\n",
              "    </tr>\n",
              "    <tr>\n",
              "      <th>2023-07-26</th>\n",
              "      <td>129.512619</td>\n",
              "      <td>45.438400</td>\n",
              "    </tr>\n",
              "    <tr>\n",
              "      <th>...</th>\n",
              "      <td>...</td>\n",
              "      <td>...</td>\n",
              "    </tr>\n",
              "    <tr>\n",
              "      <th>2024-07-15</th>\n",
              "      <td>188.190002</td>\n",
              "      <td>128.440002</td>\n",
              "    </tr>\n",
              "    <tr>\n",
              "      <th>2024-07-16</th>\n",
              "      <td>185.500000</td>\n",
              "      <td>126.360001</td>\n",
              "    </tr>\n",
              "    <tr>\n",
              "      <th>2024-07-17</th>\n",
              "      <td>182.619995</td>\n",
              "      <td>117.989998</td>\n",
              "    </tr>\n",
              "    <tr>\n",
              "      <th>2024-07-18</th>\n",
              "      <td>179.220001</td>\n",
              "      <td>121.089996</td>\n",
              "    </tr>\n",
              "    <tr>\n",
              "      <th>2024-07-19</th>\n",
              "      <td>179.389999</td>\n",
              "      <td>117.930000</td>\n",
              "    </tr>\n",
              "  </tbody>\n",
              "</table>\n",
              "<p>252 rows × 2 columns</p>\n",
              "</div>\n",
              "    <div class=\"colab-df-buttons\">\n",
              "\n",
              "  <div class=\"colab-df-container\">\n",
              "    <button class=\"colab-df-convert\" onclick=\"convertToInteractive('df-3802b861-347e-49fe-a15f-c6e8bba1f5b0')\"\n",
              "            title=\"Convert this dataframe to an interactive table.\"\n",
              "            style=\"display:none;\">\n",
              "\n",
              "  <svg xmlns=\"http://www.w3.org/2000/svg\" height=\"24px\" viewBox=\"0 -960 960 960\">\n",
              "    <path d=\"M120-120v-720h720v720H120Zm60-500h600v-160H180v160Zm220 220h160v-160H400v160Zm0 220h160v-160H400v160ZM180-400h160v-160H180v160Zm440 0h160v-160H620v160ZM180-180h160v-160H180v160Zm440 0h160v-160H620v160Z\"/>\n",
              "  </svg>\n",
              "    </button>\n",
              "\n",
              "  <style>\n",
              "    .colab-df-container {\n",
              "      display:flex;\n",
              "      gap: 12px;\n",
              "    }\n",
              "\n",
              "    .colab-df-convert {\n",
              "      background-color: #E8F0FE;\n",
              "      border: none;\n",
              "      border-radius: 50%;\n",
              "      cursor: pointer;\n",
              "      display: none;\n",
              "      fill: #1967D2;\n",
              "      height: 32px;\n",
              "      padding: 0 0 0 0;\n",
              "      width: 32px;\n",
              "    }\n",
              "\n",
              "    .colab-df-convert:hover {\n",
              "      background-color: #E2EBFA;\n",
              "      box-shadow: 0px 1px 2px rgba(60, 64, 67, 0.3), 0px 1px 3px 1px rgba(60, 64, 67, 0.15);\n",
              "      fill: #174EA6;\n",
              "    }\n",
              "\n",
              "    .colab-df-buttons div {\n",
              "      margin-bottom: 4px;\n",
              "    }\n",
              "\n",
              "    [theme=dark] .colab-df-convert {\n",
              "      background-color: #3B4455;\n",
              "      fill: #D2E3FC;\n",
              "    }\n",
              "\n",
              "    [theme=dark] .colab-df-convert:hover {\n",
              "      background-color: #434B5C;\n",
              "      box-shadow: 0px 1px 3px 1px rgba(0, 0, 0, 0.15);\n",
              "      filter: drop-shadow(0px 1px 2px rgba(0, 0, 0, 0.3));\n",
              "      fill: #FFFFFF;\n",
              "    }\n",
              "  </style>\n",
              "\n",
              "    <script>\n",
              "      const buttonEl =\n",
              "        document.querySelector('#df-3802b861-347e-49fe-a15f-c6e8bba1f5b0 button.colab-df-convert');\n",
              "      buttonEl.style.display =\n",
              "        google.colab.kernel.accessAllowed ? 'block' : 'none';\n",
              "\n",
              "      async function convertToInteractive(key) {\n",
              "        const element = document.querySelector('#df-3802b861-347e-49fe-a15f-c6e8bba1f5b0');\n",
              "        const dataTable =\n",
              "          await google.colab.kernel.invokeFunction('convertToInteractive',\n",
              "                                                    [key], {});\n",
              "        if (!dataTable) return;\n",
              "\n",
              "        const docLinkHtml = 'Like what you see? Visit the ' +\n",
              "          '<a target=\"_blank\" href=https://colab.research.google.com/notebooks/data_table.ipynb>data table notebook</a>'\n",
              "          + ' to learn more about interactive tables.';\n",
              "        element.innerHTML = '';\n",
              "        dataTable['output_type'] = 'display_data';\n",
              "        await google.colab.output.renderOutput(dataTable, element);\n",
              "        const docLink = document.createElement('div');\n",
              "        docLink.innerHTML = docLinkHtml;\n",
              "        element.appendChild(docLink);\n",
              "      }\n",
              "    </script>\n",
              "  </div>\n",
              "\n",
              "\n",
              "<div id=\"df-4831b107-17f4-4154-9fa8-afaab4c108e4\">\n",
              "  <button class=\"colab-df-quickchart\" onclick=\"quickchart('df-4831b107-17f4-4154-9fa8-afaab4c108e4')\"\n",
              "            title=\"Suggest charts\"\n",
              "            style=\"display:none;\">\n",
              "\n",
              "<svg xmlns=\"http://www.w3.org/2000/svg\" height=\"24px\"viewBox=\"0 0 24 24\"\n",
              "     width=\"24px\">\n",
              "    <g>\n",
              "        <path d=\"M19 3H5c-1.1 0-2 .9-2 2v14c0 1.1.9 2 2 2h14c1.1 0 2-.9 2-2V5c0-1.1-.9-2-2-2zM9 17H7v-7h2v7zm4 0h-2V7h2v10zm4 0h-2v-4h2v4z\"/>\n",
              "    </g>\n",
              "</svg>\n",
              "  </button>\n",
              "\n",
              "<style>\n",
              "  .colab-df-quickchart {\n",
              "      --bg-color: #E8F0FE;\n",
              "      --fill-color: #1967D2;\n",
              "      --hover-bg-color: #E2EBFA;\n",
              "      --hover-fill-color: #174EA6;\n",
              "      --disabled-fill-color: #AAA;\n",
              "      --disabled-bg-color: #DDD;\n",
              "  }\n",
              "\n",
              "  [theme=dark] .colab-df-quickchart {\n",
              "      --bg-color: #3B4455;\n",
              "      --fill-color: #D2E3FC;\n",
              "      --hover-bg-color: #434B5C;\n",
              "      --hover-fill-color: #FFFFFF;\n",
              "      --disabled-bg-color: #3B4455;\n",
              "      --disabled-fill-color: #666;\n",
              "  }\n",
              "\n",
              "  .colab-df-quickchart {\n",
              "    background-color: var(--bg-color);\n",
              "    border: none;\n",
              "    border-radius: 50%;\n",
              "    cursor: pointer;\n",
              "    display: none;\n",
              "    fill: var(--fill-color);\n",
              "    height: 32px;\n",
              "    padding: 0;\n",
              "    width: 32px;\n",
              "  }\n",
              "\n",
              "  .colab-df-quickchart:hover {\n",
              "    background-color: var(--hover-bg-color);\n",
              "    box-shadow: 0 1px 2px rgba(60, 64, 67, 0.3), 0 1px 3px 1px rgba(60, 64, 67, 0.15);\n",
              "    fill: var(--button-hover-fill-color);\n",
              "  }\n",
              "\n",
              "  .colab-df-quickchart-complete:disabled,\n",
              "  .colab-df-quickchart-complete:disabled:hover {\n",
              "    background-color: var(--disabled-bg-color);\n",
              "    fill: var(--disabled-fill-color);\n",
              "    box-shadow: none;\n",
              "  }\n",
              "\n",
              "  .colab-df-spinner {\n",
              "    border: 2px solid var(--fill-color);\n",
              "    border-color: transparent;\n",
              "    border-bottom-color: var(--fill-color);\n",
              "    animation:\n",
              "      spin 1s steps(1) infinite;\n",
              "  }\n",
              "\n",
              "  @keyframes spin {\n",
              "    0% {\n",
              "      border-color: transparent;\n",
              "      border-bottom-color: var(--fill-color);\n",
              "      border-left-color: var(--fill-color);\n",
              "    }\n",
              "    20% {\n",
              "      border-color: transparent;\n",
              "      border-left-color: var(--fill-color);\n",
              "      border-top-color: var(--fill-color);\n",
              "    }\n",
              "    30% {\n",
              "      border-color: transparent;\n",
              "      border-left-color: var(--fill-color);\n",
              "      border-top-color: var(--fill-color);\n",
              "      border-right-color: var(--fill-color);\n",
              "    }\n",
              "    40% {\n",
              "      border-color: transparent;\n",
              "      border-right-color: var(--fill-color);\n",
              "      border-top-color: var(--fill-color);\n",
              "    }\n",
              "    60% {\n",
              "      border-color: transparent;\n",
              "      border-right-color: var(--fill-color);\n",
              "    }\n",
              "    80% {\n",
              "      border-color: transparent;\n",
              "      border-right-color: var(--fill-color);\n",
              "      border-bottom-color: var(--fill-color);\n",
              "    }\n",
              "    90% {\n",
              "      border-color: transparent;\n",
              "      border-bottom-color: var(--fill-color);\n",
              "    }\n",
              "  }\n",
              "</style>\n",
              "\n",
              "  <script>\n",
              "    async function quickchart(key) {\n",
              "      const quickchartButtonEl =\n",
              "        document.querySelector('#' + key + ' button');\n",
              "      quickchartButtonEl.disabled = true;  // To prevent multiple clicks.\n",
              "      quickchartButtonEl.classList.add('colab-df-spinner');\n",
              "      try {\n",
              "        const charts = await google.colab.kernel.invokeFunction(\n",
              "            'suggestCharts', [key], {});\n",
              "      } catch (error) {\n",
              "        console.error('Error during call to suggestCharts:', error);\n",
              "      }\n",
              "      quickchartButtonEl.classList.remove('colab-df-spinner');\n",
              "      quickchartButtonEl.classList.add('colab-df-quickchart-complete');\n",
              "    }\n",
              "    (() => {\n",
              "      let quickchartButtonEl =\n",
              "        document.querySelector('#df-4831b107-17f4-4154-9fa8-afaab4c108e4 button');\n",
              "      quickchartButtonEl.style.display =\n",
              "        google.colab.kernel.accessAllowed ? 'block' : 'none';\n",
              "    })();\n",
              "  </script>\n",
              "</div>\n",
              "\n",
              "  <div id=\"id_bd1aa19c-73fb-4cee-bcfe-15d3a933b6e5\">\n",
              "    <style>\n",
              "      .colab-df-generate {\n",
              "        background-color: #E8F0FE;\n",
              "        border: none;\n",
              "        border-radius: 50%;\n",
              "        cursor: pointer;\n",
              "        display: none;\n",
              "        fill: #1967D2;\n",
              "        height: 32px;\n",
              "        padding: 0 0 0 0;\n",
              "        width: 32px;\n",
              "      }\n",
              "\n",
              "      .colab-df-generate:hover {\n",
              "        background-color: #E2EBFA;\n",
              "        box-shadow: 0px 1px 2px rgba(60, 64, 67, 0.3), 0px 1px 3px 1px rgba(60, 64, 67, 0.15);\n",
              "        fill: #174EA6;\n",
              "      }\n",
              "\n",
              "      [theme=dark] .colab-df-generate {\n",
              "        background-color: #3B4455;\n",
              "        fill: #D2E3FC;\n",
              "      }\n",
              "\n",
              "      [theme=dark] .colab-df-generate:hover {\n",
              "        background-color: #434B5C;\n",
              "        box-shadow: 0px 1px 3px 1px rgba(0, 0, 0, 0.15);\n",
              "        filter: drop-shadow(0px 1px 2px rgba(0, 0, 0, 0.3));\n",
              "        fill: #FFFFFF;\n",
              "      }\n",
              "    </style>\n",
              "    <button class=\"colab-df-generate\" onclick=\"generateWithVariable('data')\"\n",
              "            title=\"Generate code using this dataframe.\"\n",
              "            style=\"display:none;\">\n",
              "\n",
              "  <svg xmlns=\"http://www.w3.org/2000/svg\" height=\"24px\"viewBox=\"0 0 24 24\"\n",
              "       width=\"24px\">\n",
              "    <path d=\"M7,19H8.4L18.45,9,17,7.55,7,17.6ZM5,21V16.75L18.45,3.32a2,2,0,0,1,2.83,0l1.4,1.43a1.91,1.91,0,0,1,.58,1.4,1.91,1.91,0,0,1-.58,1.4L9.25,21ZM18.45,9,17,7.55Zm-12,3A5.31,5.31,0,0,0,4.9,8.1,5.31,5.31,0,0,0,1,6.5,5.31,5.31,0,0,0,4.9,4.9,5.31,5.31,0,0,0,6.5,1,5.31,5.31,0,0,0,8.1,4.9,5.31,5.31,0,0,0,12,6.5,5.46,5.46,0,0,0,6.5,12Z\"/>\n",
              "  </svg>\n",
              "    </button>\n",
              "    <script>\n",
              "      (() => {\n",
              "      const buttonEl =\n",
              "        document.querySelector('#id_bd1aa19c-73fb-4cee-bcfe-15d3a933b6e5 button.colab-df-generate');\n",
              "      buttonEl.style.display =\n",
              "        google.colab.kernel.accessAllowed ? 'block' : 'none';\n",
              "\n",
              "      buttonEl.onclick = () => {\n",
              "        google.colab.notebook.generateWithVariable('data');\n",
              "      }\n",
              "      })();\n",
              "    </script>\n",
              "  </div>\n",
              "\n",
              "    </div>\n",
              "  </div>\n"
            ],
            "application/vnd.google.colaboratory.intrinsic+json": {
              "type": "dataframe",
              "variable_name": "data",
              "summary": "{\n  \"name\": \"data\",\n  \"rows\": 252,\n  \"fields\": [\n    {\n      \"column\": \"Date\",\n      \"properties\": {\n        \"dtype\": \"date\",\n        \"min\": \"2023-07-20 00:00:00\",\n        \"max\": \"2024-07-19 00:00:00\",\n        \"num_unique_values\": 252,\n        \"samples\": [\n          \"2024-03-15 00:00:00\",\n          \"2023-07-28 00:00:00\",\n          \"2023-12-27 00:00:00\"\n        ],\n        \"semantic_type\": \"\",\n        \"description\": \"\"\n      }\n    },\n    {\n      \"column\": \"GOOG\",\n      \"properties\": {\n        \"dtype\": \"number\",\n        \"std\": 18.45270287718534,\n        \"min\": 119.39413452148438,\n        \"max\": 192.66000366210938,\n        \"num_unique_values\": 247,\n        \"samples\": [\n          135.21612548828125,\n          132.8588104248047,\n          156.15231323242188\n        ],\n        \"semantic_type\": \"\",\n        \"description\": \"\"\n      }\n    },\n    {\n      \"column\": \"NVDA\",\n      \"properties\": {\n        \"dtype\": \"number\",\n        \"std\": 28.561366167968384,\n        \"min\": 40.31725311279297,\n        \"max\": 135.5800018310547,\n        \"num_unique_values\": 251,\n        \"samples\": [\n          85.22599792480469,\n          46.73601150512695,\n          87.82978057861328\n        ],\n        \"semantic_type\": \"\",\n        \"description\": \"\"\n      }\n    }\n  ]\n}"
            }
          },
          "metadata": {},
          "execution_count": 2
        }
      ]
    },
    {
      "cell_type": "markdown",
      "source": [
        "* ¿Es necesario aclarar la diferencia entre una Series y un DataFrame en pandas?"
      ],
      "metadata": {
        "id": "WaUPgryk3Ycj"
      }
    },
    {
      "cell_type": "code",
      "source": [
        "data[['GOOG']].shape"
      ],
      "metadata": {
        "colab": {
          "base_uri": "https://localhost:8080/"
        },
        "id": "DtAriJwATQ2_",
        "outputId": "b2133211-9852-4108-cba9-84cef9e6f605"
      },
      "execution_count": null,
      "outputs": [
        {
          "output_type": "execute_result",
          "data": {
            "text/plain": [
              "(252, 1)"
            ]
          },
          "metadata": {},
          "execution_count": 8
        }
      ]
    },
    {
      "cell_type": "code",
      "source": [
        "data['GOOG'].shape"
      ],
      "metadata": {
        "colab": {
          "base_uri": "https://localhost:8080/"
        },
        "id": "ni9ZSQWqS8zT",
        "outputId": "9e4f4151-70f6-49aa-8ab8-807f8a179e3c"
      },
      "execution_count": null,
      "outputs": [
        {
          "output_type": "execute_result",
          "data": {
            "text/plain": [
              "(252,)"
            ]
          },
          "metadata": {},
          "execution_count": 9
        }
      ]
    },
    {
      "cell_type": "markdown",
      "source": [
        "# Precio justo"
      ],
      "metadata": {
        "id": "ufEHDng4TgEK"
      }
    },
    {
      "cell_type": "code",
      "source": [
        "spot_price = data['NVDA'][-1]\n",
        "spot_price"
      ],
      "metadata": {
        "id": "E9hkT0Aq2vj1",
        "colab": {
          "base_uri": "https://localhost:8080/"
        },
        "outputId": "144df944-ca9f-42f2-df43-3a15f1668013"
      },
      "execution_count": null,
      "outputs": [
        {
          "output_type": "execute_result",
          "data": {
            "text/plain": [
              "117.93000030517578"
            ]
          },
          "metadata": {},
          "execution_count": 10
        }
      ]
    },
    {
      "cell_type": "code",
      "source": [
        "# Precio justo, suponiendo que la tasa libre de riesgo es constante\n",
        "r = 0.052\n",
        "T = 90/365\n",
        "forward_price = spot_price * (1 + r*T)\n",
        "forward_price"
      ],
      "metadata": {
        "id": "KCs5AmQc2vhr",
        "colab": {
          "base_uri": "https://localhost:8080/"
        },
        "outputId": "ef938608-119b-4643-976d-d6123fe3e075"
      },
      "execution_count": null,
      "outputs": [
        {
          "output_type": "execute_result",
          "data": {
            "text/plain": [
              "119.44208907621201"
            ]
          },
          "metadata": {},
          "execution_count": 11
        }
      ]
    },
    {
      "cell_type": "code",
      "source": [
        "# Precio justo cuando se toma como proceso continuo\n",
        "r = 0.052\n",
        "T = 90/365\n",
        "forward_price = spot_price * np.exp(r*T)\n",
        "forward_price"
      ],
      "metadata": {
        "id": "sPFjTPZT2vfp",
        "colab": {
          "base_uri": "https://localhost:8080/"
        },
        "outputId": "f31a13a7-3ce6-4d77-d6eb-2889bc7e21b9"
      },
      "execution_count": null,
      "outputs": [
        {
          "output_type": "execute_result",
          "data": {
            "text/plain": [
              "119.45182457996158"
            ]
          },
          "metadata": {},
          "execution_count": 12
        }
      ]
    },
    {
      "cell_type": "markdown",
      "source": [
        "# Ejercicio\n",
        "\n",
        "Haga el código del siguiente escenario:\n",
        "Ves el precio actual de NVIDIA (aprox 117), calculas el valor futuro de modo sencillo y decides entrar en un contrato Forward en Largo por 1000 acciones que vencerá en 30 días (te comprometes a comprar). 10 días después, el activo subió a 130, y decides entrar en un contrato de tipo Forward en Corto y lo haces a un precio justo.\n",
        "\n",
        "¿Que ganancia obtendrías?\n",
        "\n",
        "¿Si decides ejecutar tus contratos, que ganancia tendrías al traerla a valor presente?"
      ],
      "metadata": {
        "id": "8bi8YUjk57k_"
      }
    },
    {
      "cell_type": "code",
      "source": [
        "# Espacio para el ejercicio (pueden agregar mas celdas de código)"
      ],
      "metadata": {
        "id": "SCP2bVsj9THK"
      },
      "execution_count": null,
      "outputs": []
    },
    {
      "cell_type": "code",
      "source": [],
      "metadata": {
        "id": "drTb_3N39TE5"
      },
      "execution_count": null,
      "outputs": []
    },
    {
      "cell_type": "code",
      "source": [
        "ganancia_final = 11936.381063382925"
      ],
      "metadata": {
        "id": "a3Hw4XEw9TCs"
      },
      "execution_count": null,
      "outputs": []
    },
    {
      "cell_type": "code",
      "source": [],
      "metadata": {
        "id": "e8N1PlvF2vdS"
      },
      "execution_count": null,
      "outputs": []
    },
    {
      "cell_type": "markdown",
      "source": [
        "* Evento de Gamestop"
      ],
      "metadata": {
        "id": "2W9aJOFcAyNl"
      }
    },
    {
      "cell_type": "markdown",
      "source": [
        "# Valuación de un Forward"
      ],
      "metadata": {
        "id": "MDuftGTN9g3J"
      }
    },
    {
      "cell_type": "markdown",
      "source": [
        "$$ V_t = S_t - F e^{r(T - t)} $$"
      ],
      "metadata": {
        "id": "dn2_bQgGapSF"
      }
    },
    {
      "cell_type": "code",
      "execution_count": null,
      "metadata": {
        "id": "dQMJtgR3vBLu"
      },
      "outputs": [],
      "source": [
        "def forward_contract_value(spot_price, forward_price, risk_free_rate, time_to_maturity, current_time):\n",
        "    # Calcula el VALOR del contrato\n",
        "    value = spot_price - forward_price * np.exp(risk_free_rate * (time_to_maturity - current_time))\n",
        "    return value"
      ]
    },
    {
      "cell_type": "code",
      "source": [
        "# Parametros\n",
        "spot_price = 100\n",
        "forward_price = 105\n",
        "risk_free_rate = 0.05\n",
        "time_to_maturity = 365/365 # 1\n",
        "current_time = 1/365"
      ],
      "metadata": {
        "id": "p2OJFRku-Om3"
      },
      "execution_count": null,
      "outputs": []
    },
    {
      "cell_type": "code",
      "source": [
        "value = forward_contract_value(spot_price, forward_price, risk_free_rate, time_to_maturity, current_time)\n",
        "\n",
        "print(f\"El valor del contrato es: {value}\")"
      ],
      "metadata": {
        "id": "IzKD49cV-QTr",
        "colab": {
          "base_uri": "https://localhost:8080/"
        },
        "outputId": "4909f7b1-fad0-4f53-e2d9-fab7ccd1c068"
      },
      "execution_count": null,
      "outputs": [
        {
          "output_type": "stream",
          "name": "stdout",
          "text": [
            "El valor del contrato es: -10.368345132502597\n"
          ]
        }
      ]
    },
    {
      "cell_type": "markdown",
      "source": [
        "$$ f(s_t, t) = v_t $$"
      ],
      "metadata": {
        "id": "YofKAG9fb0hE"
      }
    },
    {
      "cell_type": "markdown",
      "source": [
        "$$ f^{'} (s_t, t)= v^{'}_t$$"
      ],
      "metadata": {
        "id": "8nbrkZfTibsv"
      }
    },
    {
      "cell_type": "markdown",
      "source": [
        "# Paréntesis cultural\n",
        "\n",
        "Tratar con datos tipo fecha en python (se pueden tomar del móduo \"datetime\" o directamente en pandas con auxiliares)"
      ],
      "metadata": {
        "id": "W-GQNGWo_rY-"
      }
    },
    {
      "cell_type": "code",
      "source": [
        "fecha = pd.to_datetime('07-08-2024')\n",
        "fecha"
      ],
      "metadata": {
        "id": "WG6HelWx_vQk",
        "colab": {
          "base_uri": "https://localhost:8080/"
        },
        "outputId": "55938dde-7868-4c23-a571-bc6772437797"
      },
      "execution_count": null,
      "outputs": [
        {
          "output_type": "execute_result",
          "data": {
            "text/plain": [
              "Timestamp('2024-07-08 00:00:00')"
            ]
          },
          "metadata": {},
          "execution_count": 16
        }
      ]
    },
    {
      "cell_type": "code",
      "source": [
        "fecha.month"
      ],
      "metadata": {
        "id": "zcNPp6duABXb",
        "colab": {
          "base_uri": "https://localhost:8080/"
        },
        "outputId": "199e80a9-34c3-40ac-cd1b-53918d976ee7"
      },
      "execution_count": null,
      "outputs": [
        {
          "output_type": "execute_result",
          "data": {
            "text/plain": [
              "7"
            ]
          },
          "metadata": {},
          "execution_count": 17
        }
      ]
    },
    {
      "cell_type": "code",
      "source": [
        "# ¿Como corregir que lea primero el día y luego el mes (diferente a USA)?\n",
        "fecha = pd.to_datetime('07-08-2024', dayfirst=True)"
      ],
      "metadata": {
        "id": "cOj9UY3ZADp4"
      },
      "execution_count": null,
      "outputs": []
    },
    {
      "cell_type": "code",
      "source": [
        "fecha.month"
      ],
      "metadata": {
        "id": "K89YOg0YAFoT",
        "colab": {
          "base_uri": "https://localhost:8080/"
        },
        "outputId": "dd595550-00de-4f6e-8a09-91b7ef80a70c"
      },
      "execution_count": null,
      "outputs": [
        {
          "output_type": "execute_result",
          "data": {
            "text/plain": [
              "8"
            ]
          },
          "metadata": {},
          "execution_count": 19
        }
      ]
    },
    {
      "cell_type": "code",
      "source": [
        "dif = pd.to_datetime('07/08/2024', dayfirst=True) - pd.to_datetime('01/01/2024', dayfirst=True)\n",
        "dif"
      ],
      "metadata": {
        "id": "ugOCp_EoANl0",
        "colab": {
          "base_uri": "https://localhost:8080/"
        },
        "outputId": "694a1552-8d09-4b38-ff26-cb279949793a"
      },
      "execution_count": null,
      "outputs": [
        {
          "output_type": "execute_result",
          "data": {
            "text/plain": [
              "Timedelta('219 days 00:00:00')"
            ]
          },
          "metadata": {},
          "execution_count": 21
        }
      ]
    },
    {
      "cell_type": "code",
      "source": [
        "dif.days"
      ],
      "metadata": {
        "colab": {
          "base_uri": "https://localhost:8080/"
        },
        "id": "tJvAI0rxc-kD",
        "outputId": "5e116573-de4f-497d-d6c5-6c2867ed539a"
      },
      "execution_count": null,
      "outputs": [
        {
          "output_type": "execute_result",
          "data": {
            "text/plain": [
              "219"
            ]
          },
          "metadata": {},
          "execution_count": 22
        }
      ]
    },
    {
      "cell_type": "code",
      "source": [
        "# Como ver atributos de mi objeto\n",
        "dir(dif)"
      ],
      "metadata": {
        "colab": {
          "base_uri": "https://localhost:8080/"
        },
        "id": "lNbkC818d2q7",
        "outputId": "42b72d18-85f3-48c9-ad15-ec1f41ff088e"
      },
      "execution_count": null,
      "outputs": [
        {
          "output_type": "execute_result",
          "data": {
            "text/plain": [
              "['__abs__',\n",
              " '__add__',\n",
              " '__array_priority__',\n",
              " '__bool__',\n",
              " '__class__',\n",
              " '__delattr__',\n",
              " '__dict__',\n",
              " '__dir__',\n",
              " '__divmod__',\n",
              " '__doc__',\n",
              " '__eq__',\n",
              " '__floordiv__',\n",
              " '__format__',\n",
              " '__ge__',\n",
              " '__getattribute__',\n",
              " '__gt__',\n",
              " '__hash__',\n",
              " '__init__',\n",
              " '__init_subclass__',\n",
              " '__le__',\n",
              " '__lt__',\n",
              " '__mod__',\n",
              " '__module__',\n",
              " '__mul__',\n",
              " '__ne__',\n",
              " '__neg__',\n",
              " '__new__',\n",
              " '__pos__',\n",
              " '__pyx_vtable__',\n",
              " '__radd__',\n",
              " '__rdivmod__',\n",
              " '__reduce__',\n",
              " '__reduce_cython__',\n",
              " '__reduce_ex__',\n",
              " '__repr__',\n",
              " '__rfloordiv__',\n",
              " '__rmod__',\n",
              " '__rmul__',\n",
              " '__rsub__',\n",
              " '__rtruediv__',\n",
              " '__setattr__',\n",
              " '__setstate__',\n",
              " '__setstate_cython__',\n",
              " '__sizeof__',\n",
              " '__str__',\n",
              " '__sub__',\n",
              " '__subclasshook__',\n",
              " '__truediv__',\n",
              " '__weakref__',\n",
              " '_creso',\n",
              " '_d',\n",
              " '_from_value_and_reso',\n",
              " '_h',\n",
              " '_is_populated',\n",
              " '_m',\n",
              " '_maybe_cast_to_matching_resos',\n",
              " '_microseconds',\n",
              " '_ms',\n",
              " '_ns',\n",
              " '_repr_base',\n",
              " '_req_any_kwargs_new',\n",
              " '_round',\n",
              " '_s',\n",
              " '_seconds',\n",
              " '_unit',\n",
              " '_us',\n",
              " '_value',\n",
              " 'as_unit',\n",
              " 'asm8',\n",
              " 'ceil',\n",
              " 'components',\n",
              " 'days',\n",
              " 'floor',\n",
              " 'isoformat',\n",
              " 'max',\n",
              " 'microseconds',\n",
              " 'min',\n",
              " 'nanoseconds',\n",
              " 'resolution',\n",
              " 'resolution_string',\n",
              " 'round',\n",
              " 'seconds',\n",
              " 'to_numpy',\n",
              " 'to_pytimedelta',\n",
              " 'to_timedelta64',\n",
              " 'total_seconds',\n",
              " 'unit',\n",
              " 'value',\n",
              " 'view']"
            ]
          },
          "metadata": {},
          "execution_count": 23
        }
      ]
    },
    {
      "cell_type": "markdown",
      "source": [
        "# Ejercicio 2\n",
        "\n",
        "1.- Cree una tabla en pandas que tenga 6 columnas, 5 van a ser los parámetros utilizados para ver el valor de un forward y la sexta será el valor del contrato.\n",
        "\n",
        "2.- Visualice (gráfico) como se ve el cambio del precio del Forward que se basa en NVIDIA al avanzar en el tiempo"
      ],
      "metadata": {
        "id": "smwZs-2g-RV2"
      }
    },
    {
      "cell_type": "code",
      "source": [
        "# Espacio para ejercicio 2\n"
      ],
      "metadata": {
        "id": "l5KUYbmE-gns"
      },
      "execution_count": null,
      "outputs": []
    },
    {
      "cell_type": "markdown",
      "source": [
        "# Redes Neuronales"
      ],
      "metadata": {
        "id": "k5pKPqAD9kh7"
      }
    },
    {
      "cell_type": "code",
      "source": [
        "from tensorflow import keras\n",
        "import tensorflow as tf\n",
        "\n",
        "model = keras.Sequential(\n",
        "    [\n",
        "        keras.layers.Dense(64, activation=\"relu\", input_shape=(5,)),\n",
        "        keras.layers.Dense(64, activation=\"relu\"),\n",
        "        keras.layers.Dense(64, activation=\"relu\"),\n",
        "        keras.layers.Dense(1, activation=\"sigmoid\")\n",
        "    ]\n",
        ")\n",
        "model.summary()"
      ],
      "metadata": {
        "id": "du9ZlwxW9iwb"
      },
      "execution_count": null,
      "outputs": []
    },
    {
      "cell_type": "code",
      "source": [
        "model.compile(\n",
        "    optimizer=keras.optimizers.Adam(0.01), loss=\"mse\",\n",
        ")\n",
        "\n",
        "history = model.fit(\n",
        "    \"train_features\",\n",
        "    \"train_targets\",\n",
        "    batch_size=20, # Cantidad de datos que optimizan pesos por cada pasada, \"batch size\"\n",
        "    epochs=30, # Cantidad de pasadas que dan todos los datos, para entrenamiento\n",
        "    verbose=2,\n",
        ")"
      ],
      "metadata": {
        "id": "CYmC7ORo-sbZ"
      },
      "execution_count": null,
      "outputs": []
    },
    {
      "cell_type": "markdown",
      "source": [
        "¿Podríamos hacer una red que haga predicciones recibiendo solo el tiempo como parámetro?"
      ],
      "metadata": {
        "id": "nUmSM5b1Ag6I"
      }
    }
  ]
}